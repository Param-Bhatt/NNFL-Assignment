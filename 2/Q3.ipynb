{
  "nbformat": 4,
  "nbformat_minor": 0,
  "metadata": {
    "colab": {
      "name": "Q3.ipynb",
      "provenance": [],
      "collapsed_sections": [],
      "include_colab_link": true
    },
    "kernelspec": {
      "name": "python3",
      "display_name": "Python 3"
    },
    "accelerator": "GPU"
  },
  "cells": [
    {
      "cell_type": "markdown",
      "metadata": {
        "id": "view-in-github",
        "colab_type": "text"
      },
      "source": [
        "<a href=\"https://colab.research.google.com/github/Param-Bhatt/NNFL-Assignment/blob/master/2/Q3.ipynb\" target=\"_parent\"><img src=\"https://colab.research.google.com/assets/colab-badge.svg\" alt=\"Open In Colab\"/></a>"
      ]
    },
    {
      "cell_type": "markdown",
      "metadata": {
        "id": "I8NsyGNk5d1k"
      },
      "source": [
        "<h3>Ignore warnings"
      ]
    },
    {
      "cell_type": "code",
      "metadata": {
        "id": "XalWh4uyO4ic"
      },
      "source": [
        "import warnings\n",
        "warnings.filterwarnings(\"ignore\")"
      ],
      "execution_count": 3,
      "outputs": []
    },
    {
      "cell_type": "markdown",
      "metadata": {
        "id": "Duoyuz8X5ZCn"
      },
      "source": [
        "<h3> Mounting drive"
      ]
    },
    {
      "cell_type": "code",
      "metadata": {
        "colab": {
          "base_uri": "https://localhost:8080/"
        },
        "id": "uJi6-EHh42HW",
        "outputId": "fc07db4d-562b-4f18-b23c-810c3241bc43"
      },
      "source": [
        "from google.colab import drive\n",
        "drive.mount('/content/drive')"
      ],
      "execution_count": 4,
      "outputs": [
        {
          "output_type": "stream",
          "text": [
            "Drive already mounted at /content/drive; to attempt to forcibly remount, call drive.mount(\"/content/drive\", force_remount=True).\n"
          ],
          "name": "stdout"
        }
      ]
    },
    {
      "cell_type": "markdown",
      "metadata": {
        "id": "DTiyjbDd5bF-"
      },
      "source": [
        "<h3>Navigating to respective directory"
      ]
    },
    {
      "cell_type": "code",
      "metadata": {
        "colab": {
          "base_uri": "https://localhost:8080/"
        },
        "id": "X61vZJwTBwMH",
        "outputId": "cc927822-1c7d-4658-cb7a-110cfbe95108"
      },
      "source": [
        "%cd \"/content/drive/My Drive/NNFL-Assignments/2\"\n",
        "!ls"
      ],
      "execution_count": 5,
      "outputs": [
        {
          "output_type": "stream",
          "text": [
            "/content/drive/My Drive/NNFL-Assignments/2\n",
            "assignment2.gdoc  class2_images    class_label.mat  data5.mat\t  input.mat\n",
            "assignment2.pdf   class3_images    data55.xlsx\t    input_a2.mat  label.mat\n",
            "class1_images\t  class_label.csv  data5.csv\t    input.gsheet  Q8.ipynb\n"
          ],
          "name": "stdout"
        }
      ]
    },
    {
      "cell_type": "markdown",
      "metadata": {
        "id": "yZj91eu55v_C"
      },
      "source": [
        "<h3>Importing all libraries required"
      ]
    },
    {
      "cell_type": "code",
      "metadata": {
        "id": "ocHbIdW5BQHf"
      },
      "source": [
        "import numpy as np\n",
        "import matplotlib.pyplot as plt\n",
        "from scipy.io import loadmat\n",
        "import random\n",
        "from sklearn.metrics import confusion_matrix as cm"
      ],
      "execution_count": 6,
      "outputs": []
    },
    {
      "cell_type": "markdown",
      "metadata": {
        "id": "yCG8xkxv50Jr"
      },
      "source": [
        "<h3>Get data"
      ]
    },
    {
      "cell_type": "code",
      "metadata": {
        "id": "rbsum4wyBX3W"
      },
      "source": [
        "f = loadmat('data5.mat')\n",
        "D = f['x']\n",
        "np.random.shuffle(D)"
      ],
      "execution_count": 7,
      "outputs": []
    },
    {
      "cell_type": "markdown",
      "metadata": {
        "id": "kF8Wjh5i56U1"
      },
      "source": [
        "<h3> Functions as required"
      ]
    },
    {
      "cell_type": "code",
      "metadata": {
        "id": "Pu88mOSQBcZ2"
      },
      "source": [
        "def init_data(data):\n",
        "    X = np.array(data[:2148, :-1], dtype = float)\n",
        "    y = np.array(data[:2148, -1], dtype = int)\n",
        "    X = (X - X.mean(axis = 0))/X.std(axis = 0)\n",
        "    return X, y\n",
        "\n",
        "def affine_forward(x, w, b):\n",
        "    z = x.dot(w) + b\n",
        "    cache = (x, w, b)\n",
        "    return z, cache\n",
        "\n",
        "def affine_backward(dout, cache):\n",
        "    x, w, b = cache\n",
        "    db = np.sum(dout, axis = 0)\n",
        "    dw = x.T.dot(dout)\n",
        "    dx = dout.dot(w.T)\n",
        "    return dx, dw, db\n",
        "\n",
        "def relu_forward(x):\n",
        "    a = x\n",
        "    a[a<=0] = 0\n",
        "    cache = x\n",
        "    return a, cache\n",
        "\n",
        "def relu_backward(dout, cache):\n",
        "    x = cache\n",
        "    dx = None\n",
        "    dx = np.ones(x.shape)\n",
        "    dx[x<=0] = 0\n",
        "    dx = dx * dout\n",
        "    return dx"
      ],
      "execution_count": 8,
      "outputs": []
    },
    {
      "cell_type": "markdown",
      "metadata": {
        "id": "xHF-xhRL53KO"
      },
      "source": [
        "<h3> The twonet class"
      ]
    },
    {
      "cell_type": "code",
      "metadata": {
        "id": "e7GYhwnFBgLW"
      },
      "source": [
        "class Twonet(object):\n",
        "\n",
        "    def __init__(self, input_size, hidden_size1, hidden_size2, num_classes, std=1e-4):\n",
        "        self.W1 = std * np.random.randn(input_size, hidden_size1)\n",
        "        self.b1 = np.zeros(hidden_size1)\n",
        "        self.W2 = std * np.random.randn(hidden_size1, hidden_size2)\n",
        "        self.b2 = np.zeros(hidden_size2)\n",
        "        self.W3 = std * np.random.randn(hidden_size2, num_classes)\n",
        "        self.b3 = np.zeros(num_classes)\n",
        "\n",
        "    def calc_cost(self, X, y = None, reg = 0.0):\n",
        "        N, D = X.shape\n",
        "        scores = None\n",
        "        z1, af_cache1 = affine_forward(X, self.W1, self.b1)\n",
        "        h1, relu_cache1 = relu_forward(z1)\n",
        "        z2, af_cache2 = affine_forward(h1, self.W2, self.b2)\n",
        "        h2, relu_cache2 = relu_forward(z2)\n",
        "        z3, af_cache3 = affine_forward(h2, self.W3, self.b3)\n",
        "        scores = z3\n",
        "\n",
        "        if y is None:\n",
        "            return scores\n",
        "\n",
        "        J = None\n",
        "        scores -= scores.max()\n",
        "        scores_exp = np.exp(scores)\n",
        "        correct_scores = scores[range(N), y]\n",
        "        correct_scores_exp = np.exp(correct_scores)\n",
        "        J = np.sum(-np.log(correct_scores_exp / np.sum(scores_exp, axis = 1))) / N\n",
        "        J += 0.5 * reg * (np.sum(self.W1 * self.W1) + \\\n",
        "            np.sum(self.W2 * self.W2) + np.sum(self.W3 * self.W3))\n",
        "\n",
        "        num = correct_scores_exp\n",
        "        denom = np.sum(scores_exp, axis = 1)\n",
        "        mask = (np.exp(z3)/denom.reshape(scores.shape[0],1))\n",
        "        mask[range(N),y] = -(denom - num)/denom\n",
        "        mask /= N\n",
        "        dz3 = mask\n",
        "\n",
        "        dh2, dw3, db3 = affine_backward(dz3, af_cache3)\n",
        "        dz2 = relu_backward(dh2, relu_cache2)\n",
        "        dh1, dw2, db2 = affine_backward(dz2, af_cache2)\n",
        "        dz1 = relu_backward(dh1, relu_cache1)\n",
        "        dx, dw1, db1 = affine_backward(dz1, af_cache1)\n",
        "        \n",
        "        dw3 = dw3 + reg * self.W3\n",
        "        dw2 = dw2 + reg * self.W2\n",
        "        dw1 = dw1 + reg * self.W1\n",
        "\n",
        "        wgrad = (dw1, dw2, dw3)\n",
        "        bgrad = (db1, db2, db3)\n",
        "\n",
        "        return J, wgrad, bgrad\n",
        "\n",
        "    def train(self, X, y, X_val, y_val, alpha = 1e-3, alpha_decay = 0.95,\\\n",
        "         reg = 5e-6, num_iters = 100, batch_size = 200):\n",
        "        num_train = X.shape[0]\n",
        "        iterations_per_epoch = max(num_train / batch_size, 1)\n",
        "        J_list = []\n",
        "        train_acc_list = []\n",
        "        val_acc_list = []\n",
        "\n",
        "        for it in range(num_iters):\n",
        "\n",
        "            ind = np.random.choice(num_train, batch_size)\n",
        "            X_batch = X[ind,:]\n",
        "            y_batch = y[ind]\n",
        "            \n",
        "            J, wgrad, bgrad = self.calc_cost(X_batch, y = y_batch, reg = reg)\n",
        "            J_list.append(J)\n",
        "\n",
        "            dw1, dw2, dw3 = wgrad\n",
        "            db1, db2, db3 = bgrad\n",
        "\n",
        "            self.W1 -= alpha * dw1\n",
        "            self.W2 -= alpha * dw2\n",
        "            self.W3 -= alpha * dw3\n",
        "            self.b1 -= alpha * db1\n",
        "            self.b2 -= alpha * db2\n",
        "            self.b3 -= alpha * db3\n",
        "\n",
        "\n",
        "            if (it+1) % 500 == 0:\n",
        "                print(f'Iteration {it+1} / {num_iters}: Cost {J}')\n",
        "\n",
        "            if it % iterations_per_epoch == 0:\n",
        "                train_acc = (self.predict(X_batch) == y_batch).mean()\n",
        "                val_acc = (self.predict(X_val) == y_val).mean()\n",
        "                train_acc_list.append(train_acc)\n",
        "                val_acc_list.append(val_acc)\n",
        "\n",
        "                alpha *= alpha_decay\n",
        "\n",
        "\n",
        "        return {'J_list' : J_list, 'train_acc_list' : \\\n",
        "            train_acc_list, 'val_acc_list' : val_acc_list}\n",
        "\n",
        "\n",
        "    def predict(self, X):\n",
        "        y_pred = np.argmax(self.calc_cost(X), axis = 1)\n",
        "        return y_pred"
      ],
      "execution_count": 9,
      "outputs": []
    },
    {
      "cell_type": "markdown",
      "metadata": {
        "id": "-bNJNysD5-Sp"
      },
      "source": [
        "<h3> Initialize params"
      ]
    },
    {
      "cell_type": "code",
      "metadata": {
        "id": "VB9f-Uh_Bj-9"
      },
      "source": [
        "input_size = 72\n",
        "hidden_size1 = 30\n",
        "hidden_size2 = 30\n",
        "num_classes = 2\n",
        "num_inputs = 1718\n",
        "std = 0.1\n",
        "alpha = 0.3\n",
        "batch_size = 1024\n",
        "reg = 1e-2\n",
        "num_iters = 1500"
      ],
      "execution_count": 10,
      "outputs": []
    },
    {
      "cell_type": "markdown",
      "metadata": {
        "id": "iYuMZGU76BFX"
      },
      "source": [
        "<h3><i><u><b> RUN"
      ]
    },
    {
      "cell_type": "code",
      "metadata": {
        "colab": {
          "base_uri": "https://localhost:8080/"
        },
        "id": "3JSdTbWuBpOF",
        "outputId": "1641c83d-fc97-4f29-a274-cc8b5219bb26"
      },
      "source": [
        "%%time\n",
        "\n",
        "X_tot, y_tot = init_data(D)\n",
        "\n",
        "train_acc , val_acc = 0, 0\n",
        "J_list = np.empty((5, num_iters))\n",
        "val_accs = []\n",
        "train_accs = []\n",
        "\n",
        "for k in range(5):\n",
        "    \n",
        "    X = X_tot[0 : 1718]\n",
        "    y = y_tot[0 : 1718]\n",
        "    X_val = X_tot[1718 :]\n",
        "    y_val = y_tot[1718 :]\n",
        "    \n",
        "    Net = Twonet(input_size, hidden_size1, hidden_size2, num_classes, std)\n",
        "    print(\"Fold:\", k+1)\n",
        "    stats = Net.train(X, y, X_val, y_val, alpha=alpha, reg = 0.0, num_iters = num_iters, batch_size = batch_size)\n",
        "    J_list[k] = np.asarray(stats['J_list'])\n",
        "    val_accs = np.asarray(stats['val_acc_list'])\n",
        "    train_accs = np.asarray(stats['train_acc_list'])\n",
        "    train_acc += train_accs\n",
        "    val_acc += val_accs\n",
        "    print('===================================================')\n",
        "\n",
        "    X_tot[0 : 430] = X_val\n",
        "    X_tot[430 : ] = X\n",
        "    y_tot[0 : 430] = y_val\n",
        "    y_tot[430 : ] = y\n",
        "\n",
        "train_acc /= 5\n",
        "val_acc /= 5\n",
        "\n",
        "print(f'Final Accuracy: {train_acc[-1]*100}%\\nValidation Accuracy: {val_acc[-1]*100}%')\n",
        "J_hist = np.mean(J_list, axis = 0)"
      ],
      "execution_count": 14,
      "outputs": [
        {
          "output_type": "stream",
          "text": [
            "Fold: 1\n",
            "Iteration 500 / 1500: Cost 0.004085700343333795\n",
            "Iteration 1000 / 1500: Cost 0.0010312409333625852\n",
            "Iteration 1500 / 1500: Cost 0.0004901285992056847\n",
            "===================================================\n",
            "Fold: 2\n",
            "Iteration 500 / 1500: Cost 0.0029355015814297304\n",
            "Iteration 1000 / 1500: Cost 0.0008199934062808494\n",
            "Iteration 1500 / 1500: Cost 0.0004925063915235497\n",
            "===================================================\n",
            "Fold: 3\n",
            "Iteration 500 / 1500: Cost 0.002774116957607376\n",
            "Iteration 1000 / 1500: Cost 0.0008956517286547722\n",
            "Iteration 1500 / 1500: Cost 0.00040843286030131827\n",
            "===================================================\n",
            "Fold: 4\n",
            "Iteration 500 / 1500: Cost 0.003163003030595939\n",
            "Iteration 1000 / 1500: Cost 0.0007430416581089931\n",
            "Iteration 1500 / 1500: Cost 0.0005174380967719779\n",
            "===================================================\n",
            "Fold: 5\n",
            "Iteration 500 / 1500: Cost 0.0023467258927461748\n",
            "Iteration 1000 / 1500: Cost 0.0007478059555483177\n",
            "Iteration 1500 / 1500: Cost 0.00045594440044768647\n",
            "===================================================\n",
            "Final Accuracy: 100.0%\n",
            "Validation Accuracy: 95.67441860465117%\n",
            "CPU times: user 37.4 s, sys: 21.2 s, total: 58.6 s\n",
            "Wall time: 29.8 s\n"
          ],
          "name": "stdout"
        }
      ]
    },
    {
      "cell_type": "markdown",
      "metadata": {
        "id": "oFbuNcXa6HbM"
      },
      "source": [
        "<h3>Plotting our results"
      ]
    },
    {
      "cell_type": "code",
      "metadata": {
        "colab": {
          "base_uri": "https://localhost:8080/",
          "height": 279
        },
        "id": "XkHivTaaBsyl",
        "outputId": "82625b75-2b9a-41d6-b561-7384d0c194c2"
      },
      "source": [
        "plt.subplot(2, 1, 1)\n",
        "plt.plot(J_hist)\n",
        "plt.xlabel('Iteration')\n",
        "plt.ylabel('Cost')\n",
        "\n",
        "plt.subplot(2, 1, 2)\n",
        "plt.plot(train_acc, label='train')\n",
        "plt.plot(val_acc, label='val')\n",
        "plt.xlabel('Epoch')\n",
        "plt.ylabel('Classification accuracy')\n",
        "plt.tight_layout\n",
        "plt.show()"
      ],
      "execution_count": 15,
      "outputs": [
        {
          "output_type": "display_data",
          "data": {
            "image/png": "[encoded data removed]",
            "text/plain": [
              "<Figure size 432x288 with 2 Axes>"
            ]
          },
          "metadata": {
            "tags": [],
            "needs_background": "light"
          }
        }
      ]
    },
    {
      "cell_type": "markdown",
      "metadata": {
        "id": "rTNqgWzb6KZx"
      },
      "source": [
        "<h3> Accuracy"
      ]
    },
    {
      "cell_type": "code",
      "metadata": {
        "id": "cWS-ZxUB4Ow4",
        "colab": {
          "base_uri": "https://localhost:8080/"
        },
        "outputId": "91b65383-f48a-41ec-bf36-671debe7250b"
      },
      "source": [
        "y_pred = Net.predict(X_val)\n",
        "\n",
        "confmat = cm(y_val,y_pred)\n",
        "\n",
        "Accuracy = (confmat[0][0]+confmat[1][1])/len(y_val)\n",
        "Sensitivity = (confmat[1][1])/(confmat[1][0] + confmat[1][1])\n",
        "Specificity = (confmat[0][0])/(confmat[0][0] + confmat[0][1])\n",
        "print(confmat)\n",
        "print(f\"Accuracy: {Accuracy*100}%\\nSensitivity: {Sensitivity}\\nSpecificity: {Specificity}\")"
      ],
      "execution_count": 16,
      "outputs": [
        {
          "output_type": "stream",
          "text": [
            "[[204   0]\n",
            " [  0 226]]\n",
            "Accuracy: 100.0%\n",
            "Sensitivity: 1.0\n",
            "Specificity: 1.0\n"
          ],
          "name": "stdout"
        }
      ]
    }
  ]
}