{
  "nbformat": 4,
  "nbformat_minor": 0,
  "metadata": {
    "colab": {
      "name": "Q8.ipynb",
      "provenance": [],
      "mount_file_id": "1VWjNTVLdRHSs35xYPV7647GyOOTJII2g",
      "authorship_tag": "ABX9TyO/NJ/24kHFHDzOZUMKLa4R",
      "include_colab_link": true
    },
    "kernelspec": {
      "name": "python3",
      "display_name": "Python 3"
    }
  },
  "cells": [
    {
      "cell_type": "markdown",
      "metadata": {
        "id": "view-in-github",
        "colab_type": "text"
      },
      "source": [
        "<a href=\"https://colab.research.google.com/github/Param-Bhatt/NNFL-Assignment/blob/master/2/Q8.ipynb\" target=\"_parent\"><img src=\"https://colab.research.google.com/assets/colab-badge.svg\" alt=\"Open In Colab\"/></a>"
      ]
    },
    {
      "cell_type": "markdown",
      "metadata": {
        "id": "VDsJrcbxCls1"
      },
      "source": [
        "<h3>Mounting drive"
      ]
    },
    {
      "cell_type": "code",
      "metadata": {
        "colab": {
          "base_uri": "https://localhost:8080/"
        },
        "id": "a_4K5xAVCkrP",
        "outputId": "e9064f7f-c4f8-46bf-a5d5-2a30395e11a6"
      },
      "source": [
        "from google.colab import drive\n",
        "drive.mount('/content/drive')"
      ],
      "execution_count": 1,
      "outputs": [
        {
          "output_type": "stream",
          "text": [
            "Mounted at /content/drive\n"
          ],
          "name": "stdout"
        }
      ]
    },
    {
      "cell_type": "markdown",
      "metadata": {
        "id": "Lqe771AwCn53"
      },
      "source": [
        "<h3>Navigating to respective directory"
      ]
    },
    {
      "cell_type": "code",
      "metadata": {
        "colab": {
          "base_uri": "https://localhost:8080/"
        },
        "id": "HTHyojAV8TWw",
        "outputId": "b5bfe079-f2ab-47f7-a491-1b73470cb2fe"
      },
      "source": [
        "%cd \"/content/drive/My Drive/NNFL-Assignments/2\"\n",
        "!ls"
      ],
      "execution_count": 2,
      "outputs": [
        {
          "output_type": "stream",
          "text": [
            "/content/drive/My Drive/NNFL-Assignments/2\n",
            "assignment2.gdoc  class2_images    class_label.mat  data5.mat\t  input.mat\n",
            "assignment2.pdf   class3_images    data55.xlsx\t    input_a2.mat  label.mat\n",
            "class1_images\t  class_label.csv  data5.csv\t    input.gsheet  Q8.ipynb\n"
          ],
          "name": "stdout"
        }
      ]
    },
    {
      "cell_type": "markdown",
      "metadata": {
        "id": "thD6DYtgBraj"
      },
      "source": [
        "<h3> Importing all the libraries required"
      ]
    },
    {
      "cell_type": "code",
      "metadata": {
        "id": "KjKQk2entpP8"
      },
      "source": [
        "from __future__ import division, print_function\n",
        "import scipy.io\n",
        "import numpy as np\n",
        "import random as rnd\n",
        "import pandas as pd\n",
        "mat = scipy.io.loadmat('data5.mat')\n",
        "x = mat['x']\n",
        "x = np.asarray(x)\n",
        "np.random.shuffle(x)\n",
        "x.shape\n",
        "\n",
        "len = x.shape[0]\n",
        "train_len = int(0.7 * len)\n",
        "validate_len = int((0.1 * len) + 1)\n",
        "test_len = int((0.2 * len) + 1)\n",
        "\n",
        "train_data = x[0:train_len,:]\n",
        "validate_data = x[train_len+1:train_len+1+validate_len,:]\n",
        "test_data = x[train_len+validate_len+1:,:]\n",
        "\n",
        "x_train = train_data[:,0:72]\n",
        "y_train = train_data[:,-1]\n",
        "x_validate = validate_data[:,0:72]\n",
        "y_validate = validate_data[:,-1]\n",
        "x_test = test_data[:,0:72]\n",
        "y_test = test_data[:,-1]"
      ],
      "execution_count": 3,
      "outputs": []
    },
    {
      "cell_type": "markdown",
      "metadata": {
        "id": "fdGuF-psCwA5"
      },
      "source": [
        "<h3> Extracting the required data </h3>"
      ]
    },
    {
      "cell_type": "code",
      "metadata": {
        "id": "dQ71L-nmCc74"
      },
      "source": [
        "mat = scipy.io.loadmat('data5.mat')\n",
        "data = mat['x']\n",
        "#transform to numpy array\n",
        "data = np.asarray(data)\n",
        "#shuffling the data for random choices\n",
        "np.random.shuffle(data)"
      ],
      "execution_count": 4,
      "outputs": []
    },
    {
      "cell_type": "markdown",
      "metadata": {
        "id": "68p1VZGiDqgD"
      },
      "source": [
        "<h4> Dump the data to a csv file (optional) </h4>"
      ]
    },
    {
      "cell_type": "code",
      "metadata": {
        "id": "Z-SqI7-DCN0-"
      },
      "source": [
        "#dump the data to csv\n",
        "np.savetxt(\"data5.csv\", data, delimiter=\",\")"
      ],
      "execution_count": 5,
      "outputs": []
    },
    {
      "cell_type": "markdown",
      "metadata": {
        "id": "Y2GxV8g0Dp3Y"
      },
      "source": [
        "<h3>Form datasets for use, and sanitize them as needed </h3>"
      ]
    },
    {
      "cell_type": "code",
      "metadata": {
        "id": "DDQ9KGWYB4nI"
      },
      "source": [
        "len = data.shape[0]\n",
        "train_len = int(0.7 * len)\n",
        "validate_len = int((0.1 * len) + 1)\n",
        "test_len = int((0.2 * len) + 1)\n",
        "#dividing the data\n",
        "train_data = data[0:train_len,:]\n",
        "validate_data = data[train_len+1:train_len+1+validate_len,:]\n",
        "test_data = data[train_len+validate_len+1:,:]\n",
        "#making train,validate and test data\n",
        "x_train = train_data[:,0:72]\n",
        "y_train = train_data[:,-1]\n",
        "x_validate = validate_data[:,0:72]\n",
        "y_validate = validate_data[:,-1]\n",
        "x_test = test_data[:,0:72]\n",
        "y_test = test_data[:,-1]\n",
        "#convert the classes to 1 & -1\n",
        "for i in range(y_train.shape[0]):\n",
        "  y_train[i] = int(y_train[i])\n",
        "  if int(y_train[i]) == 0:\n",
        "    y_train[i] = -1\n",
        "for i in range(y_validate.shape[0]):\n",
        "  y_validate[i] = int(y_validate[i])\n",
        "  if int(y_validate[i]) == 0:\n",
        "    y_validate[i] = -1\n",
        "for i in range(y_test.shape[0]):\n",
        "  y_test[i] = int(y_test[i])\n",
        "  if int(y_test[i]) == 0:\n",
        "    y_test[i] = -1\n"
      ],
      "execution_count": 6,
      "outputs": []
    },
    {
      "cell_type": "markdown",
      "metadata": {
        "id": "YPKR9TsND5Bu"
      },
      "source": [
        "<h3> The SVM class </h3>"
      ]
    },
    {
      "cell_type": "code",
      "metadata": {
        "id": "vZVKzlMCs8h4"
      },
      "source": [
        "class SVM():\n",
        "    \"\"\"\n",
        "        Simple implementation of a Support Vector Machine using the\n",
        "        Sequential Minimal Optimization (SMO) algorithm for training.\n",
        "    \"\"\"\n",
        "    def __init__(self, max_iter=10000, kernel_type='linear', C=1.0, epsilon=0.001):\n",
        "        self.kernels = {\n",
        "            'linear' : self.kernel_linear,\n",
        "            'quadratic' : self.kernel_quadratic\n",
        "        }\n",
        "        self.max_iter = max_iter\n",
        "        self.kernel_type = kernel_type\n",
        "        self.C = C\n",
        "        self.epsilon = epsilon\n",
        "    def fit(self, X, y):\n",
        "        # Initialization\n",
        "        n, d = X.shape[0], X.shape[1]\n",
        "        alpha = np.zeros((n))\n",
        "        kernel = self.kernels[self.kernel_type]\n",
        "        count = 0\n",
        "        while True:\n",
        "            count += 1\n",
        "            alpha_prev = np.copy(alpha)\n",
        "            for j in range(0, n):\n",
        "                i = self.get_rnd_int(0, n-1, j) # Get random int i~=j\n",
        "                x_i, x_j, y_i, y_j = X[i,:], X[j,:], y[i], y[j]\n",
        "                k_ij = kernel(x_i, x_i) + kernel(x_j, x_j) - 2 * kernel(x_i, x_j)\n",
        "                if k_ij == 0:\n",
        "                    continue\n",
        "                alpha_prime_j, alpha_prime_i = alpha[j], alpha[i]\n",
        "                (L, H) = self.compute_L_H(self.C, alpha_prime_j, alpha_prime_i, y_j, y_i)\n",
        "\n",
        "                # Compute model parameters\n",
        "                self.w = self.calc_w(alpha, y, X)\n",
        "                self.b = self.calc_b(X, y, self.w)\n",
        "\n",
        "                # Compute E_i, E_j\n",
        "                E_i = self.E(x_i, y_i, self.w, self.b)\n",
        "                E_j = self.E(x_j, y_j, self.w, self.b)\n",
        "\n",
        "                # Set new alpha values\n",
        "                alpha[j] = alpha_prime_j + float(y_j * (E_i - E_j))/k_ij\n",
        "                alpha[j] = max(alpha[j], L)\n",
        "                alpha[j] = min(alpha[j], H)\n",
        "\n",
        "                alpha[i] = alpha_prime_i + y_i*y_j * (alpha_prime_j - alpha[j])\n",
        "\n",
        "            # Check convergence\n",
        "            diff = np.linalg.norm(alpha - alpha_prev)\n",
        "            if diff < self.epsilon:\n",
        "                break\n",
        "\n",
        "            if count >= self.max_iter:\n",
        "                print(\"Iteration number exceeded the max of %d iterations\" % (self.max_iter))\n",
        "                return\n",
        "        # Compute final model parameters\n",
        "        self.b = self.calc_b(X, y, self.w)\n",
        "        if self.kernel_type == 'linear':\n",
        "            self.w = self.calc_w(alpha, y, X)\n",
        "        # Get support vectors\n",
        "        alpha_idx = np.where(alpha > 0)[0]\n",
        "        support_vectors = X[alpha_idx, :]\n",
        "        return support_vectors, count\n",
        "    def predict(self, X):\n",
        "        return self.h(X, self.w, self.b)\n",
        "    def calc_b(self, X, y, w):\n",
        "        b_tmp = y - np.dot(w.T, X.T)\n",
        "        return np.mean(b_tmp)\n",
        "    def calc_w(self, alpha, y, X):\n",
        "        return np.dot(X.T, np.multiply(alpha,y))\n",
        "    # Prediction\n",
        "    def h(self, X, w, b):\n",
        "        return np.sign(np.dot(w.T, X.T) + b).astype(int)\n",
        "    # Prediction error\n",
        "    def E(self, x_k, y_k, w, b):\n",
        "        return self.h(x_k, w, b) - y_k\n",
        "    def compute_L_H(self, C, alpha_prime_j, alpha_prime_i, y_j, y_i):\n",
        "        if(y_i != y_j):\n",
        "            return (max(0, alpha_prime_j - alpha_prime_i), min(C, C - alpha_prime_i + alpha_prime_j))\n",
        "        else:\n",
        "            return (max(0, alpha_prime_i + alpha_prime_j - C), min(C, alpha_prime_i + alpha_prime_j))\n",
        "    def get_rnd_int(self, a,b,z):\n",
        "        i = z\n",
        "        cnt=0\n",
        "        while i == z and cnt<1000:\n",
        "            i = rnd.randint(a,b)\n",
        "            cnt=cnt+1\n",
        "        return i\n",
        "    # Define kernels\n",
        "    def kernel_linear(self, x1, x2):\n",
        "        return np.dot(x1, x2.T)\n",
        "    def kernel_quadratic(self, x1, x2):\n",
        "        return (np.dot(x1, x2.T) ** 2)"
      ],
      "execution_count": 7,
      "outputs": []
    },
    {
      "cell_type": "markdown",
      "metadata": {
        "id": "1tkp6tJdD8gg"
      },
      "source": [
        "<h3> Function to calculate accuracies </h3>"
      ]
    },
    {
      "cell_type": "code",
      "metadata": {
        "id": "B9ESa-n5ulHe"
      },
      "source": [
        "def class_acc(y_pred,y_actual):\n",
        "  confmat = pd.crosstab(y_actual, y_pred)\n",
        "  confmat = np.asarray(confmat)\n",
        "  print(confmat)\n",
        "  Acc = (confmat[0][0] + confmat[1][1])/sum(sum(confmat))\n",
        "  Acc1 = confmat[0][0]/sum(confmat[0])\n",
        "  Acc2 = confmat[1][1]/sum(confmat[1])\n",
        "  return Acc,Acc1,Acc2"
      ],
      "execution_count": 8,
      "outputs": []
    },
    {
      "cell_type": "markdown",
      "metadata": {
        "id": "_rj2xyImEE4w"
      },
      "source": [
        "<h1><b><i><u>RUN"
      ]
    },
    {
      "cell_type": "code",
      "metadata": {
        "colab": {
          "base_uri": "https://localhost:8080/"
        },
        "id": "gxqowil9tBkd",
        "outputId": "32658ef7-4aa0-4aca-9ee2-b5b9164df95a"
      },
      "source": [
        "%%time\n",
        "\n",
        "model = SVM(max_iter=10000, kernel_type='linear', C=1.0, epsilon=0.001)\n",
        "model.fit(x_train,y_train)\n",
        "y_pred = model.predict(x_test)\n",
        "Acc,Acc1,Acc2=class_acc(y_test,y_pred)\n",
        "print('Overall Class Accuracy:',Acc)\n",
        "print('Class 1 Accuracy:',Acc1)\n",
        "print('Class 2 Accuracy:',Acc2)\n"
      ],
      "execution_count": 10,
      "outputs": [
        {
          "output_type": "stream",
          "text": [
            "[[181  36]\n",
            " [ 26 186]]\n",
            "Overall Class Accuracy: 0.8554778554778555\n",
            "Class 1 Accuracy: 0.8341013824884793\n",
            "Class 2 Accuracy: 0.8773584905660378\n",
            "CPU times: user 951 ms, sys: 731 ms, total: 1.68 s\n",
            "Wall time: 878 ms\n"
          ],
          "name": "stdout"
        }
      ]
    }
  ]
}