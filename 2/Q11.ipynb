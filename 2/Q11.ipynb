{
  "nbformat": 4,
  "nbformat_minor": 0,
  "metadata": {
    "colab": {
      "name": "Q11.ipynb",
      "provenance": [],
      "authorship_tag": "ABX9TyMpP2FAKGcNnEAUAg0W7qMn"
    },
    "kernelspec": {
      "name": "python3",
      "display_name": "Python 3"
    }
  },
  "cells": [
    {
      "cell_type": "markdown",
      "metadata": {
        "id": "Q2xG4ks76HSw"
      },
      "source": [
        "<ol>By  Solving  Assignment 2 implementation of the following concepts/techniques was learned:\n",
        "\n",
        "\n",
        "<li>Non-Linear Perceptron Algorithm for the classification using Hebbian Learning rule\n",
        "<li>Kernel Perceptron Algorithm for the classification\n",
        "<li>Multilayer Perceptron based Neural Network (two hidden layers) for the classification\n",
        "<li>Radial Basis Function Neural Network (RBFNN) for the classification problem\n",
        "<li>Stacked Autoencoder based Deep Neural Network for the classification problem\n",
        "<li>Extreme Learning Machine (ELM) classifier for the classification\n",
        "<li>A Deep Neural Network\n",
        "<li>Support Vector Machine (SVM) classifier for the multi-class classification task\n",
        "<li>A multi-channel 1D deep CNN architecture for the seven-class classification task\n",
        "<li>Design a 2D deep CNN classifier for the three-class\n",
        "classification\n",
        "\n"
      ]
    }
  ]
}