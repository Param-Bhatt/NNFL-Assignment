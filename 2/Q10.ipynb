{
  "nbformat": 4,
  "nbformat_minor": 0,
  "metadata": {
    "accelerator": "GPU",
    "colab": {
      "name": "Q10.ipynb",
      "provenance": [],
      "collapsed_sections": [],
      "include_colab_link": true
    },
    "kernelspec": {
      "display_name": "Python 3",
      "name": "python3"
    }
  },
  "cells": [
    {
      "cell_type": "markdown",
      "metadata": {
        "id": "view-in-github",
        "colab_type": "text"
      },
      "source": [
        "<a href=\"https://colab.research.google.com/github/Param-Bhatt/NNFL-Assignment/blob/master/2/Q10.ipynb\" target=\"_parent\"><img src=\"https://colab.research.google.com/assets/colab-badge.svg\" alt=\"Open In Colab\"/></a>"
      ]
    },
    {
      "cell_type": "markdown",
      "metadata": {
        "id": "_Ve4DZGDEhwb"
      },
      "source": [
        "<h3>Ignoring warnings"
      ]
    },
    {
      "cell_type": "code",
      "metadata": {
        "id": "UtjJONgac_xi"
      },
      "source": [
        "import warnings\n",
        "warnings.filterwarnings(\"ignore\")"
      ],
      "execution_count": 6,
      "outputs": []
    },
    {
      "cell_type": "markdown",
      "metadata": {
        "id": "ZjOkhg06EkUY"
      },
      "source": [
        "<h3>Mounting drive"
      ]
    },
    {
      "cell_type": "code",
      "metadata": {
        "colab": {
          "base_uri": "https://localhost:8080/"
        },
        "id": "flY0PpUED8Uz",
        "outputId": "2567db2f-ba7d-4d35-ffd7-fc5e3e5706c1"
      },
      "source": [
        "from google.colab import drive\n",
        "drive.mount('/content/drive')"
      ],
      "execution_count": 7,
      "outputs": [
        {
          "output_type": "stream",
          "text": [
            "Drive already mounted at /content/drive; to attempt to forcibly remount, call drive.mount(\"/content/drive\", force_remount=True).\n"
          ],
          "name": "stdout"
        }
      ]
    },
    {
      "cell_type": "markdown",
      "metadata": {
        "id": "VAvX4mbLEmWK"
      },
      "source": [
        "<h3>Including all libraries required"
      ]
    },
    {
      "cell_type": "code",
      "metadata": {
        "id": "U8mrNefYNf9z"
      },
      "source": [
        "import os\n",
        "from PIL import Image\n",
        "import glob \n",
        "import PIL\n",
        "import keras \n",
        "import tensorflow as tf #importing tensorflow as backend\n",
        "import sklearn\n",
        "import numpy as np\n",
        "import pandas as pd\n",
        "import scipy.io as sio \n",
        "import matplotlib.pyplot as plt\n",
        "\n",
        "from sklearn.model_selection import KFold\n",
        "from sklearn import preprocessing\n",
        "from sklearn.metrics import classification_report,confusion_matrix\n",
        "from sklearn.model_selection import train_test_split\n",
        "\n",
        "from keras.models import Sequential,Model\n",
        "from keras.layers import Input, Dense, Activation, Flatten, Conv2D, Dropout,MaxPooling2D,MaxPool2D,BatchNormalization\n",
        "from keras.optimizers import SGD,Adam\n",
        "from keras.utils import np_utils\n",
        "from sklearn.utils import shuffle\n"
      ],
      "execution_count": 8,
      "outputs": []
    },
    {
      "cell_type": "markdown",
      "metadata": {
        "id": "0ec_G1vwEqvf"
      },
      "source": [
        "<h3>Loading our data from respective directories"
      ]
    },
    {
      "cell_type": "code",
      "metadata": {
        "id": "LtK0wINrNiit",
        "colab": {
          "base_uri": "https://localhost:8080/"
        },
        "outputId": "1f5afbc1-fe4c-4e7c-d41d-76310531d75d"
      },
      "source": [
        "%%time\n",
        "\n",
        "X=[]\n",
        "y=[]\n",
        "img_dir = \"/content/drive/My Drive/NNFL-Assignments/2/class1_images/\"\n",
        "data_path = os.path.join(img_dir,'*g') \n",
        "files = glob.glob(data_path) \n",
        "for f1 in files:\n",
        "  X.append(np.asarray((Image.open(f1)).resize((128,128))))\n",
        "  y.append(0)\n",
        "img_dir = \"/content/drive/My Drive/NNFL-Assignments/2/class2_images\"  \n",
        "data_path = os.path.join(img_dir,'*g') \n",
        "files = glob.glob(data_path) \n",
        "for f1 in files:\n",
        "  X.append(np.asarray((Image.open(f1)).resize((128,128))))\n",
        "  y.append(1)\n",
        "img_dir = \"/content/drive/My Drive/NNFL-Assignments/2/class3_images\"  \n",
        "data_path = os.path.join(img_dir,'*g') \n",
        "files = glob.glob(data_path) \n",
        "for f1 in files:\n",
        "  X.append(np.asarray((Image.open(f1)).resize((128,128))))\n",
        "  y.append(2)\n",
        "\n",
        "X=np.asarray(X)\n",
        "y=np.asarray(y)\n",
        "X=X/255.0"
      ],
      "execution_count": 9,
      "outputs": [
        {
          "output_type": "stream",
          "text": [
            "CPU times: user 9.98 s, sys: 327 ms, total: 10.3 s\n",
            "Wall time: 1min 53s\n"
          ],
          "name": "stdout"
        }
      ]
    },
    {
      "cell_type": "markdown",
      "metadata": {
        "id": "MmFYQjfYExTg"
      },
      "source": [
        "<h3>Initialising datasets"
      ]
    },
    {
      "cell_type": "code",
      "metadata": {
        "id": "S_8Kf5kUNnmd"
      },
      "source": [
        "os.environ['TF_CPP_MIN_LOG_LEVEL'] = '3'\n",
        "train_X,test_X,train_y,test_y=train_test_split(X,y,test_size=0.2,train_size=0.8,random_state=0)\n",
        "train_X,valid_X,train_y,valid_y=train_test_split(train_X,train_y,test_size=1/8,train_size=7/8,random_state=0)"
      ],
      "execution_count": 10,
      "outputs": []
    },
    {
      "cell_type": "markdown",
      "metadata": {
        "id": "03xeKH08Fx0G"
      },
      "source": [
        "<h3>Function to create our model"
      ]
    },
    {
      "cell_type": "code",
      "metadata": {
        "id": "DX9gxsaGNqiV"
      },
      "source": [
        "def create_model():\n",
        "  model = Sequential()\n",
        "  model.add(Conv2D(filters = 8, kernel_size = (3,3), input_shape=(128, 128, 3), padding = \"same\"))\n",
        "  model.add(MaxPooling2D(pool_size=(2, 2), strides=(1, 1), padding='same'))\n",
        "  model.add(Activation('relu'))\n",
        "  \n",
        "  model.add(Conv2D(filters = 16, kernel_size = (3,3), padding = \"same\"))\n",
        "  model.add(MaxPooling2D(pool_size=(2, 2), strides=(1, 1), padding='same'))\n",
        "  \n",
        "  model.add(Conv2D(filters = 32, kernel_size = (3,3), padding = \"same\"))\n",
        "  model.add(MaxPooling2D(pool_size=(2, 2), strides=(3, 3), padding='same'))\n",
        "  #model.add(Activation('relu'))\n",
        "  \n",
        "  model.add(Conv2D(filters = 32, kernel_size = (3,3), padding = \"same\"))\n",
        "  model.add(Flatten())\n",
        "  \n",
        "  model.add(Dense(128))\n",
        "  model.add(Activation('relu'))\n",
        "  \n",
        "  model.add(Dense(64))\n",
        "  model.add(Dropout(0.3))\n",
        "  model.add(Activation('relu'))\n",
        "  \n",
        "  model.add(Dense(32))\n",
        "  model.add(Activation('relu'))\n",
        "  \n",
        "  model.add(Dense(16))\n",
        "  model.add(Dropout(0.3))\n",
        "  model.add(Activation('relu'))\n",
        "  \n",
        "  model.add(Dense(3))\n",
        "  model.add(Activation('softmax'))\n",
        "  return model\n"
      ],
      "execution_count": 11,
      "outputs": []
    },
    {
      "cell_type": "code",
      "metadata": {
        "colab": {
          "base_uri": "https://localhost:8080/"
        },
        "id": "mPGAYQpcNsXV",
        "outputId": "2133d987-5cad-46f5-b763-db20629c33fb"
      },
      "source": [
        "%%time\n",
        "\n",
        "modelf=create_model()\n",
        "modelf.summary()"
      ],
      "execution_count": 12,
      "outputs": [
        {
          "output_type": "stream",
          "text": [
            "Model: \"sequential\"\n",
            "_________________________________________________________________\n",
            "Layer (type)                 Output Shape              Param #   \n",
            "=================================================================\n",
            "conv2d (Conv2D)              (None, 128, 128, 8)       224       \n",
            "_________________________________________________________________\n",
            "max_pooling2d (MaxPooling2D) (None, 128, 128, 8)       0         \n",
            "_________________________________________________________________\n",
            "activation (Activation)      (None, 128, 128, 8)       0         \n",
            "_________________________________________________________________\n",
            "conv2d_1 (Conv2D)            (None, 128, 128, 16)      1168      \n",
            "_________________________________________________________________\n",
            "max_pooling2d_1 (MaxPooling2 (None, 128, 128, 16)      0         \n",
            "_________________________________________________________________\n",
            "conv2d_2 (Conv2D)            (None, 128, 128, 32)      4640      \n",
            "_________________________________________________________________\n",
            "max_pooling2d_2 (MaxPooling2 (None, 43, 43, 32)        0         \n",
            "_________________________________________________________________\n",
            "conv2d_3 (Conv2D)            (None, 43, 43, 32)        9248      \n",
            "_________________________________________________________________\n",
            "flatten (Flatten)            (None, 59168)             0         \n",
            "_________________________________________________________________\n",
            "dense (Dense)                (None, 128)               7573632   \n",
            "_________________________________________________________________\n",
            "activation_1 (Activation)    (None, 128)               0         \n",
            "_________________________________________________________________\n",
            "dense_1 (Dense)              (None, 64)                8256      \n",
            "_________________________________________________________________\n",
            "dropout (Dropout)            (None, 64)                0         \n",
            "_________________________________________________________________\n",
            "activation_2 (Activation)    (None, 64)                0         \n",
            "_________________________________________________________________\n",
            "dense_2 (Dense)              (None, 32)                2080      \n",
            "_________________________________________________________________\n",
            "activation_3 (Activation)    (None, 32)                0         \n",
            "_________________________________________________________________\n",
            "dense_3 (Dense)              (None, 16)                528       \n",
            "_________________________________________________________________\n",
            "dropout_1 (Dropout)          (None, 16)                0         \n",
            "_________________________________________________________________\n",
            "activation_4 (Activation)    (None, 16)                0         \n",
            "_________________________________________________________________\n",
            "dense_4 (Dense)              (None, 3)                 51        \n",
            "_________________________________________________________________\n",
            "activation_5 (Activation)    (None, 3)                 0         \n",
            "=================================================================\n",
            "Total params: 7,599,827\n",
            "Trainable params: 7,599,827\n",
            "Non-trainable params: 0\n",
            "_________________________________________________________________\n",
            "CPU times: user 665 ms, sys: 292 ms, total: 957 ms\n",
            "Wall time: 5.5 s\n"
          ],
          "name": "stdout"
        }
      ]
    },
    {
      "cell_type": "markdown",
      "metadata": {
        "id": "sXTkwes2F44q"
      },
      "source": [
        "<h3>Fitting our model"
      ]
    },
    {
      "cell_type": "code",
      "metadata": {
        "colab": {
          "base_uri": "https://localhost:8080/"
        },
        "id": "JVM4bNyCNt2n",
        "outputId": "4975812e-1acb-487e-99e8-26214a4a3d15"
      },
      "source": [
        "modelf.compile(loss='sparse_categorical_crossentropy', optimizer='sgd', metrics=['accuracy'])\n",
        "history=modelf.fit(train_X, train_y, epochs=30, batch_size=15,validation_data=(valid_X,valid_y))\n",
        "print(history)"
      ],
      "execution_count": 13,
      "outputs": [
        {
          "output_type": "stream",
          "text": [
            "Epoch 1/30\n",
            "34/34 [==============================] - 1s 23ms/step - loss: 1.1175 - accuracy: 0.2996 - val_loss: 1.0947 - val_accuracy: 0.3889\n",
            "Epoch 2/30\n",
            "34/34 [==============================] - 0s 13ms/step - loss: 1.1005 - accuracy: 0.3452 - val_loss: 1.0984 - val_accuracy: 0.3056\n",
            "Epoch 3/30\n",
            "34/34 [==============================] - 0s 13ms/step - loss: 1.1010 - accuracy: 0.3214 - val_loss: 1.0984 - val_accuracy: 0.3194\n",
            "Epoch 4/30\n",
            "34/34 [==============================] - 0s 12ms/step - loss: 1.0980 - accuracy: 0.3552 - val_loss: 1.0959 - val_accuracy: 0.3056\n",
            "Epoch 5/30\n",
            "34/34 [==============================] - 0s 13ms/step - loss: 1.0970 - accuracy: 0.3552 - val_loss: 1.0936 - val_accuracy: 0.3194\n",
            "Epoch 6/30\n",
            "34/34 [==============================] - 0s 12ms/step - loss: 1.0928 - accuracy: 0.3968 - val_loss: 1.0903 - val_accuracy: 0.3333\n",
            "Epoch 7/30\n",
            "34/34 [==============================] - 0s 13ms/step - loss: 1.0919 - accuracy: 0.3929 - val_loss: 1.0828 - val_accuracy: 0.5417\n",
            "Epoch 8/30\n",
            "34/34 [==============================] - 0s 13ms/step - loss: 1.0803 - accuracy: 0.5020 - val_loss: 1.0642 - val_accuracy: 0.8472\n",
            "Epoch 9/30\n",
            "34/34 [==============================] - 0s 13ms/step - loss: 1.0610 - accuracy: 0.5536 - val_loss: 1.0517 - val_accuracy: 0.5417\n",
            "Epoch 10/30\n",
            "34/34 [==============================] - 0s 12ms/step - loss: 1.0280 - accuracy: 0.6171 - val_loss: 1.0225 - val_accuracy: 0.3056\n",
            "Epoch 11/30\n",
            "34/34 [==============================] - 0s 12ms/step - loss: 0.9745 - accuracy: 0.6329 - val_loss: 0.9017 - val_accuracy: 0.8333\n",
            "Epoch 12/30\n",
            "34/34 [==============================] - 0s 13ms/step - loss: 0.8553 - accuracy: 0.6825 - val_loss: 0.7356 - val_accuracy: 0.7778\n",
            "Epoch 13/30\n",
            "34/34 [==============================] - 0s 12ms/step - loss: 0.9970 - accuracy: 0.5952 - val_loss: 1.0418 - val_accuracy: 0.6389\n",
            "Epoch 14/30\n",
            "34/34 [==============================] - 0s 12ms/step - loss: 1.0061 - accuracy: 0.5278 - val_loss: 0.8015 - val_accuracy: 0.8472\n",
            "Epoch 15/30\n",
            "34/34 [==============================] - 0s 13ms/step - loss: 0.7313 - accuracy: 0.8036 - val_loss: 0.4537 - val_accuracy: 0.9861\n",
            "Epoch 16/30\n",
            "34/34 [==============================] - 0s 13ms/step - loss: 0.5088 - accuracy: 0.8234 - val_loss: 0.4699 - val_accuracy: 0.8333\n",
            "Epoch 17/30\n",
            "34/34 [==============================] - 0s 13ms/step - loss: 0.5225 - accuracy: 0.8710 - val_loss: 0.1645 - val_accuracy: 1.0000\n",
            "Epoch 18/30\n",
            "34/34 [==============================] - 0s 12ms/step - loss: 0.3006 - accuracy: 0.9266 - val_loss: 0.0695 - val_accuracy: 1.0000\n",
            "Epoch 19/30\n",
            "34/34 [==============================] - 0s 12ms/step - loss: 0.1920 - accuracy: 0.9524 - val_loss: 0.0808 - val_accuracy: 1.0000\n",
            "Epoch 20/30\n",
            "34/34 [==============================] - 0s 13ms/step - loss: 0.1461 - accuracy: 0.9643 - val_loss: 0.0212 - val_accuracy: 1.0000\n",
            "Epoch 21/30\n",
            "34/34 [==============================] - 0s 13ms/step - loss: 0.1274 - accuracy: 0.9663 - val_loss: 0.4752 - val_accuracy: 0.8333\n",
            "Epoch 22/30\n",
            "34/34 [==============================] - 0s 13ms/step - loss: 0.1089 - accuracy: 0.9722 - val_loss: 0.0091 - val_accuracy: 1.0000\n",
            "Epoch 23/30\n",
            "34/34 [==============================] - 0s 13ms/step - loss: 0.0659 - accuracy: 0.9921 - val_loss: 0.0037 - val_accuracy: 1.0000\n",
            "Epoch 24/30\n",
            "34/34 [==============================] - 0s 13ms/step - loss: 0.0787 - accuracy: 0.9782 - val_loss: 0.0046 - val_accuracy: 1.0000\n",
            "Epoch 25/30\n",
            "34/34 [==============================] - 0s 13ms/step - loss: 0.0894 - accuracy: 0.9782 - val_loss: 0.0029 - val_accuracy: 1.0000\n",
            "Epoch 26/30\n",
            "34/34 [==============================] - 0s 13ms/step - loss: 0.0591 - accuracy: 0.9861 - val_loss: 0.0015 - val_accuracy: 1.0000\n",
            "Epoch 27/30\n",
            "34/34 [==============================] - 0s 13ms/step - loss: 0.0246 - accuracy: 0.9960 - val_loss: 8.2557e-04 - val_accuracy: 1.0000\n",
            "Epoch 28/30\n",
            "34/34 [==============================] - 0s 12ms/step - loss: 0.0328 - accuracy: 0.9960 - val_loss: 5.2526e-04 - val_accuracy: 1.0000\n",
            "Epoch 29/30\n",
            "34/34 [==============================] - 0s 13ms/step - loss: 0.0595 - accuracy: 0.9821 - val_loss: 0.0013 - val_accuracy: 1.0000\n",
            "Epoch 30/30\n",
            "34/34 [==============================] - 0s 13ms/step - loss: 0.0313 - accuracy: 0.9921 - val_loss: 3.7305e-04 - val_accuracy: 1.0000\n",
            "<tensorflow.python.keras.callbacks.History object at 0x7f6df0370748>\n"
          ],
          "name": "stdout"
        }
      ]
    },
    {
      "cell_type": "markdown",
      "metadata": {
        "id": "N-Is76PmF6_n"
      },
      "source": [
        "<h3>Plotting our results"
      ]
    },
    {
      "cell_type": "code",
      "metadata": {
        "colab": {
          "base_uri": "https://localhost:8080/",
          "height": 312
        },
        "id": "nTvi3OkBNvjG",
        "outputId": "e05aa7dd-5d6e-4318-87c6-a1a40db6cc78"
      },
      "source": [
        "#plotting the loss graph\n",
        "plt.plot(history.history['loss'])\n",
        "plt.title('Model Loss')\n",
        "plt.ylabel('Loss')\n",
        "plt.xlabel('Epochs')\n"
      ],
      "execution_count": 14,
      "outputs": [
        {
          "output_type": "execute_result",
          "data": {
            "text/plain": [
              "Text(0.5, 0, 'Epochs')"
            ]
          },
          "metadata": {
            "tags": []
          },
          "execution_count": 14
        },
        {
          "output_type": "display_data",
          "data": {
            "image/png": "[encoded data removed]",
            "text/plain": [
              "<Figure size 432x288 with 1 Axes>"
            ]
          },
          "metadata": {
            "tags": [],
            "needs_background": "light"
          }
        }
      ]
    },
    {
      "cell_type": "markdown",
      "metadata": {
        "id": "uMx96zZlF-te"
      },
      "source": [
        "<h3>Confusion matrix"
      ]
    },
    {
      "cell_type": "code",
      "metadata": {
        "colab": {
          "base_uri": "https://localhost:8080/",
          "height": 209
        },
        "id": "YVddhUo7NxM-",
        "outputId": "9f6e4f2e-4f72-4070-cf44-6ffe2ac4815e"
      },
      "source": [
        "#Confusion Matrix\n",
        "test_y=test_y+1\n",
        "y_pred=np.argmax(modelf.predict(test_X), axis=-1)+1\n",
        "cm=pd.crosstab(test_y,y_pred)\n",
        "print(\"Confusion matrix:\\n\")\n",
        "cm"
      ],
      "execution_count": 15,
      "outputs": [
        {
          "output_type": "stream",
          "text": [
            "Confusion matrix:\n",
            "\n"
          ],
          "name": "stdout"
        },
        {
          "output_type": "execute_result",
          "data": {
            "text/html": [
              "<div>\n",
              "<style scoped>\n",
              "    .dataframe tbody tr th:only-of-type {\n",
              "        vertical-align: middle;\n",
              "    }\n",
              "\n",
              "    .dataframe tbody tr th {\n",
              "        vertical-align: top;\n",
              "    }\n",
              "\n",
              "    .dataframe thead th {\n",
              "        text-align: right;\n",
              "    }\n",
              "</style>\n",
              "<table border=\"1\" class=\"dataframe\">\n",
              "  <thead>\n",
              "    <tr style=\"text-align: right;\">\n",
              "      <th>col_0</th>\n",
              "      <th>1</th>\n",
              "      <th>2</th>\n",
              "      <th>3</th>\n",
              "    </tr>\n",
              "    <tr>\n",
              "      <th>row_0</th>\n",
              "      <th></th>\n",
              "      <th></th>\n",
              "      <th></th>\n",
              "    </tr>\n",
              "  </thead>\n",
              "  <tbody>\n",
              "    <tr>\n",
              "      <th>1</th>\n",
              "      <td>41</td>\n",
              "      <td>1</td>\n",
              "      <td>0</td>\n",
              "    </tr>\n",
              "    <tr>\n",
              "      <th>2</th>\n",
              "      <td>0</td>\n",
              "      <td>54</td>\n",
              "      <td>0</td>\n",
              "    </tr>\n",
              "    <tr>\n",
              "      <th>3</th>\n",
              "      <td>2</td>\n",
              "      <td>0</td>\n",
              "      <td>46</td>\n",
              "    </tr>\n",
              "  </tbody>\n",
              "</table>\n",
              "</div>"
            ],
            "text/plain": [
              "col_0   1   2   3\n",
              "row_0            \n",
              "1      41   1   0\n",
              "2       0  54   0\n",
              "3       2   0  46"
            ]
          },
          "metadata": {
            "tags": []
          },
          "execution_count": 15
        }
      ]
    },
    {
      "cell_type": "markdown",
      "metadata": {
        "id": "w5q1O4u3GAdr"
      },
      "source": [
        "<h3>Accuracy"
      ]
    },
    {
      "cell_type": "code",
      "metadata": {
        "colab": {
          "base_uri": "https://localhost:8080/"
        },
        "id": "SbrF43l5N2TG",
        "outputId": "d2378706-ada3-4e57-d705-2e2f71765065"
      },
      "source": [
        "print(\"Individual class accuracy:\")\n",
        "cm=confusion_matrix(test_y,y_pred)\n",
        "for i in range(3):\n",
        "  print(f'Class {i+1} accuracy: ', end=\"\")\n",
        "  print((cm.diagonal()/cm.sum(axis=1))[i] *100)\n",
        "print(f\"Overall Accuracy: {np.sum(y_pred==test_y)/len(test_y) *100}%\")"
      ],
      "execution_count": 16,
      "outputs": [
        {
          "output_type": "stream",
          "text": [
            "Individual class accuracy:\n",
            "Class 1 accuracy: 97.61904761904762\n",
            "Class 2 accuracy: 100.0\n",
            "Class 3 accuracy: 95.83333333333334\n",
            "Overall Accuracy: 97.91666666666666%\n"
          ],
          "name": "stdout"
        }
      ]
    },
    {
      "cell_type": "code",
      "metadata": {
        "id": "FbPQytEFOaja"
      },
      "source": [
        "def call_model(tr_x,tr_y):\n",
        "  modelk=create_model()\n",
        "  modelk.compile(loss='sparse_categorical_crossentropy', optimizer='sgd', metrics=['accuracy'])\n",
        "  modelk.fit(tr_x,tr_y, epochs=20, batch_size=15,verbose=0,shuffle=False)\n",
        "  return modelk"
      ],
      "execution_count": 17,
      "outputs": []
    },
    {
      "cell_type": "markdown",
      "metadata": {
        "id": "n-Gbi-bPGNtt"
      },
      "source": [
        "<h3>K fold cross validation"
      ]
    },
    {
      "cell_type": "code",
      "metadata": {
        "id": "2dsC2Tn3Oe-e",
        "colab": {
          "base_uri": "https://localhost:8080/"
        },
        "outputId": "36197925-b3ad-4cf6-b597-cd5a30437323"
      },
      "source": [
        "%%time\n",
        "\n",
        "j=1\n",
        "Xs, ys = shuffle(X, y,random_state=0)\n",
        "kf=KFold(n_splits=10)\n",
        "accs = 0\n",
        "for train,test in kf.split(Xs):\n",
        "    print()\n",
        "    print(f\"Fold {j}:\")\n",
        "    j=j+1\n",
        "    tr_x,tr_y,ts_x,ts_y=Xs[train],ys[train],Xs[test],ys[test]\n",
        "    tf.compat.v1.disable_eager_execution()\n",
        "    y_pred=np.argmax(call_model(tr_x,tr_y).predict(ts_x), axis=-1)\n",
        "    cm=confusion_matrix(ts_y,y_pred)\n",
        "    print(\"Confusion matrix:\")\n",
        "    print(cm)\n",
        "    print(\"Individual class accuracy:\")\n",
        "    for i in range(3):\n",
        "        print(f\"Class {i+1}: \", end = \"\")\n",
        "        print((cm.diagonal()/cm.sum(axis=1))[i] *100) #Individual Class Accuracy\n",
        "    acc = np.sum(y_pred==ts_y)/len(ts_y)\n",
        "    accs += acc\n",
        "    print(f\"Overall Accuracy: {acc*100}%\")\n",
        "    print(\"====================================\")\n",
        "\n",
        "print(f\"Average Accuracy: {accs*100/10}%\")"
      ],
      "execution_count": 18,
      "outputs": [
        {
          "output_type": "stream",
          "text": [
            "\n",
            "Fold 1:\n",
            "WARNING:tensorflow:From /usr/local/lib/python3.6/dist-packages/tensorflow/python/keras/engine/training_v1.py:2070: Model.state_updates (from tensorflow.python.keras.engine.training) is deprecated and will be removed in a future version.\n",
            "Instructions for updating:\n",
            "This property should not be used in TensorFlow 2.0, as updates are applied automatically.\n",
            "Confusion matrix:\n",
            "[[17  1  0]\n",
            " [ 0 21  0]\n",
            " [ 1  0 32]]\n",
            "Individual class accuracy:\n",
            "Class 1: 94.44444444444444\n",
            "Class 2: 100.0\n",
            "Class 3: 96.96969696969697\n",
            "Overall Accuracy: 97.22222222222221%\n",
            "====================================\n",
            "\n",
            "Fold 2:\n",
            "Confusion matrix:\n",
            "[[24  0  0]\n",
            " [ 1 32  0]\n",
            " [ 0  1 14]]\n",
            "Individual class accuracy:\n",
            "Class 1: 100.0\n",
            "Class 2: 96.96969696969697\n",
            "Class 3: 93.33333333333333\n",
            "Overall Accuracy: 97.22222222222221%\n",
            "====================================\n",
            "\n",
            "Fold 3:\n",
            "Confusion matrix:\n",
            "[[19  0  0]\n",
            " [ 0 31  0]\n",
            " [ 0  0 22]]\n",
            "Individual class accuracy:\n",
            "Class 1: 100.0\n",
            "Class 2: 100.0\n",
            "Class 3: 100.0\n",
            "Overall Accuracy: 100.0%\n",
            "====================================\n",
            "\n",
            "Fold 4:\n",
            "Confusion matrix:\n",
            "[[28  2  1]\n",
            " [ 0 23  0]\n",
            " [ 0  5 13]]\n",
            "Individual class accuracy:\n",
            "Class 1: 90.32258064516128\n",
            "Class 2: 100.0\n",
            "Class 3: 72.22222222222221\n",
            "Overall Accuracy: 88.88888888888889%\n",
            "====================================\n",
            "\n",
            "Fold 5:\n",
            "Confusion matrix:\n",
            "[[22  0  0]\n",
            " [ 0 28  0]\n",
            " [ 0  0 22]]\n",
            "Individual class accuracy:\n",
            "Class 1: 100.0\n",
            "Class 2: 100.0\n",
            "Class 3: 100.0\n",
            "Overall Accuracy: 100.0%\n",
            "====================================\n",
            "\n",
            "Fold 6:\n",
            "Confusion matrix:\n",
            "[[21  0  0]\n",
            " [ 0 28  0]\n",
            " [ 0  0 23]]\n",
            "Individual class accuracy:\n",
            "Class 1: 100.0\n",
            "Class 2: 100.0\n",
            "Class 3: 100.0\n",
            "Overall Accuracy: 100.0%\n",
            "====================================\n",
            "\n",
            "Fold 7:\n",
            "Confusion matrix:\n",
            "[[23  0  0]\n",
            " [ 0 18  0]\n",
            " [ 0  0 31]]\n",
            "Individual class accuracy:\n",
            "Class 1: 100.0\n",
            "Class 2: 100.0\n",
            "Class 3: 100.0\n",
            "Overall Accuracy: 100.0%\n",
            "====================================\n",
            "\n",
            "Fold 8:\n",
            "Confusion matrix:\n",
            "[[28  0  0]\n",
            " [ 0 21  0]\n",
            " [ 0  0 23]]\n",
            "Individual class accuracy:\n",
            "Class 1: 100.0\n",
            "Class 2: 100.0\n",
            "Class 3: 100.0\n",
            "Overall Accuracy: 100.0%\n",
            "====================================\n",
            "\n",
            "Fold 9:\n",
            "Confusion matrix:\n",
            "[[28  0  0]\n",
            " [ 0 25  0]\n",
            " [ 0  0 19]]\n",
            "Individual class accuracy:\n",
            "Class 1: 100.0\n",
            "Class 2: 100.0\n",
            "Class 3: 100.0\n",
            "Overall Accuracy: 100.0%\n",
            "====================================\n",
            "\n",
            "Fold 10:\n",
            "Confusion matrix:\n",
            "[[23  0  0]\n",
            " [ 0 24  0]\n",
            " [ 0  0 25]]\n",
            "Individual class accuracy:\n",
            "Class 1: 100.0\n",
            "Class 2: 100.0\n",
            "Class 3: 100.0\n",
            "Overall Accuracy: 100.0%\n",
            "====================================\n",
            "Average Accuracy: 98.33333333333334%\n",
            "CPU times: user 1min 46s, sys: 24.3 s, total: 2min 10s\n",
            "Wall time: 2min 8s\n"
          ],
          "name": "stdout"
        }
      ]
    }
  ]
}