{
  "nbformat": 4,
  "nbformat_minor": 0,
  "metadata": {
    "colab": {
      "name": "Q6.ipynb",
      "provenance": [],
      "collapsed_sections": [],
      "include_colab_link": true
    },
    "kernelspec": {
      "name": "python3",
      "display_name": "Python 3"
    },
    "accelerator": "GPU"
  },
  "cells": [
    {
      "cell_type": "markdown",
      "metadata": {
        "id": "view-in-github",
        "colab_type": "text"
      },
      "source": [
        "<a href=\"https://colab.research.google.com/github/Param-Bhatt/NNFL-Assignment/blob/master/2/Q6.ipynb\" target=\"_parent\"><img src=\"https://colab.research.google.com/assets/colab-badge.svg\" alt=\"Open In Colab\"/></a>"
      ]
    },
    {
      "cell_type": "markdown",
      "metadata": {
        "id": "pKKaAi6I_XtZ"
      },
      "source": [
        "<h3>Mounting drive"
      ]
    },
    {
      "cell_type": "code",
      "metadata": {
        "colab": {
          "base_uri": "https://localhost:8080/"
        },
        "id": "N4QQDcyz_Ve2",
        "outputId": "463674a8-687c-4dcc-8a34-38758a8f236b"
      },
      "source": [
        "from google.colab import drive\n",
        "drive.mount('/content/drive')"
      ],
      "execution_count": null,
      "outputs": [
        {
          "output_type": "stream",
          "text": [
            "Drive already mounted at /content/drive; to attempt to forcibly remount, call drive.mount(\"/content/drive\", force_remount=True).\n"
          ],
          "name": "stdout"
        }
      ]
    },
    {
      "cell_type": "markdown",
      "metadata": {
        "id": "biORepyY_aqE"
      },
      "source": [
        "<h3>Navigating to respective directory"
      ]
    },
    {
      "cell_type": "code",
      "metadata": {
        "colab": {
          "base_uri": "https://localhost:8080/"
        },
        "id": "TTaOj4TnsKO2",
        "outputId": "f1c874f4-c4e2-4cef-d2d8-5990f089749c"
      },
      "source": [
        "%cd \"/content/drive/My Drive/NNFL-Assignments/2\"\n",
        "!ls"
      ],
      "execution_count": null,
      "outputs": [
        {
          "output_type": "stream",
          "text": [
            "/content/drive/My Drive/NNFL-Assignments/2\n",
            "assignment2.gdoc  class2_images    class_label.mat  data5.mat\t  input.mat\n",
            "assignment2.pdf   class3_images    data55.xlsx\t    input_a2.mat  label.mat\n",
            "class1_images\t  class_label.csv  data5.csv\t    input.gsheet  Q8.ipynb\n"
          ],
          "name": "stdout"
        }
      ]
    },
    {
      "cell_type": "markdown",
      "metadata": {
        "id": "PUknuF6__6MY"
      },
      "source": [
        "<h3>Importing all libraries required"
      ]
    },
    {
      "cell_type": "code",
      "metadata": {
        "id": "ITLzPFcDsHQp"
      },
      "source": [
        "import numpy as np \n",
        "from scipy.io import loadmat\n",
        "from sklearn.preprocessing import normalize\n",
        "import random\n",
        "from sklearn.metrics import confusion_matrix as cm"
      ],
      "execution_count": null,
      "outputs": []
    },
    {
      "cell_type": "markdown",
      "metadata": {
        "id": "xB94SrZ2_9Kn"
      },
      "source": [
        "<h3>Activation functions"
      ]
    },
    {
      "cell_type": "code",
      "metadata": {
        "id": "UDRvJ4f9sPN1"
      },
      "source": [
        "#Gaussian activation function\n",
        "def gaussian(X, a, b):   \n",
        "    K = np.zeros((X.shape[0], hidden_neurons))\n",
        "    for i in range(K.shape[0]):\n",
        "        for j in range(K.shape[1]):\n",
        "            K[i,j] = np.exp(-b[j] * np.linalg.norm(a[:,j] - X[i,:]))  \n",
        "    return K\n",
        "\n",
        "#Tanh activation function\n",
        "def tanh(X):\n",
        "    return np.tanh(X)\n",
        "\n"
      ],
      "execution_count": null,
      "outputs": []
    },
    {
      "cell_type": "markdown",
      "metadata": {
        "id": "ak7gKPCFAGG7"
      },
      "source": [
        "<h3>Initialise data"
      ]
    },
    {
      "cell_type": "code",
      "metadata": {
        "id": "QmXO2vwYtV5Z"
      },
      "source": [
        "def init_data(data):\n",
        "    X = np.array(data[ : , :-1], dtype = float)\n",
        "    y = np.array(data[ : , -1], dtype = int)\n",
        "    X = normalize(X, axis = 0)\n",
        "    return X, y\n",
        "\n",
        "f = loadmat('data5.mat')\n",
        "D = f['x']\n",
        "np.random.shuffle(D)\n",
        "\n",
        "X_tot, y_tot = init_data(D)\n",
        "X_tot = np.insert(X_tot, 0, 1, axis=1)\n",
        "\n",
        "\n",
        "labels = D[:, -1]\n",
        "y = np.zeros([len(X_tot), 2])\n",
        "\n",
        "for i in range(len(labels)):\n",
        "    if labels[i] == 1:\n",
        "        y[i,1] = 1.0\n",
        "    elif labels[i] == 0:\n",
        "        y[i,0] = 1.0\n",
        "\n",
        "hidden_neurons = 300\n",
        "output_neurons = 2"
      ],
      "execution_count": null,
      "outputs": []
    },
    {
      "cell_type": "markdown",
      "metadata": {
        "id": "Qv1eUT1OApTL"
      },
      "source": [
        "<h3>K fold validation for gaussian activation"
      ]
    },
    {
      "cell_type": "code",
      "metadata": {
        "colab": {
          "base_uri": "https://localhost:8080/"
        },
        "id": "GrmTeHWY7Xr1",
        "outputId": "c1d9aa6d-1554-40fc-fcac-a277f6af70fe"
      },
      "source": [
        "%%time\n",
        "\n",
        "print(\"Gaussian accuracies: \")\n",
        "acc = 0\n",
        "for k in range(5):\n",
        "\n",
        "    X_train = X_tot[0 : 1718]\n",
        "    y_train = y[0 : 1718]\n",
        "    X_val = X_tot[1718 :]\n",
        "    y_val = y[1718 :]\n",
        "    \n",
        "    a = np.random.rand(X_train.shape[1], hidden_neurons) \n",
        "    b = np.random.rand(hidden_neurons)\n",
        "    \n",
        "    # Training \n",
        "    H = gaussian(X_train, a, b)\n",
        "    H_inv = np.linalg.pinv(H)\n",
        "    W2 = np.matmul(H_inv, y_train)\n",
        "    \n",
        "    # Testing\n",
        "    H_T = gaussian(X_val, a, b)\n",
        "    y_pred = np.matmul(H_T, W2)\n",
        "    \n",
        "    print(f'Fold {k+1}:\\n')\n",
        "    a = [np.argmax(y_pred[i]) for i in range(len(y_pred))]\n",
        "    b= [np.argmax(y_val[i]) for i in range(len(y_val))]\n",
        "    confmat = cm(b,a)\n",
        "    print(\"Confusion Matrix:\\n\")\n",
        "    print(confmat)\n",
        "    Accuracy = (confmat[0][0]+confmat[1][1])/len(y_val)\n",
        "    acc += Accuracy\n",
        "    Sensitivity = (confmat[1][1])/(confmat[1][0] + confmat[1][1])\n",
        "    Specificity = (confmat[0][0])/(confmat[0][0] + confmat[0][1])\n",
        "    print(f\"Accuracy: {Accuracy}\\nSensitivity: {Sensitivity}\\nSpecificity: {Specificity}\")\n",
        "    print(\"=============================================\")\n",
        "\n",
        "    X_tot[0 : 430] = X_val\n",
        "    X_tot[430 : ] = X_train\n",
        "    y[0 : 430] = y_val\n",
        "    y[430 : ] = y_train\n",
        "\n",
        "print(f\"Overall Accuracy: {acc*100/5}%\")"
      ],
      "execution_count": null,
      "outputs": [
        {
          "output_type": "stream",
          "text": [
            "Gaussian accuracies: \n",
            "Fold 1:\n",
            "\n",
            "Confusion Matrix:\n",
            "\n",
            "[[189  22]\n",
            " [ 23 196]]\n",
            "Accuracy: 0.8953488372093024\n",
            "Sensitivity: 0.8949771689497716\n",
            "Specificity: 0.8957345971563981\n",
            "=============================================\n",
            "Fold 2:\n",
            "\n",
            "Confusion Matrix:\n",
            "\n",
            "[[188  30]\n",
            " [ 21 191]]\n",
            "Accuracy: 0.8813953488372093\n",
            "Sensitivity: 0.9009433962264151\n",
            "Specificity: 0.8623853211009175\n",
            "=============================================\n",
            "Fold 3:\n",
            "\n",
            "Confusion Matrix:\n",
            "\n",
            "[[202  23]\n",
            " [ 17 188]]\n",
            "Accuracy: 0.9069767441860465\n",
            "Sensitivity: 0.9170731707317074\n",
            "Specificity: 0.8977777777777778\n",
            "=============================================\n",
            "Fold 4:\n",
            "\n",
            "Confusion Matrix:\n",
            "\n",
            "[[192  21]\n",
            " [ 16 201]]\n",
            "Accuracy: 0.913953488372093\n",
            "Sensitivity: 0.9262672811059908\n",
            "Specificity: 0.9014084507042254\n",
            "=============================================\n",
            "Fold 5:\n",
            "\n",
            "Confusion Matrix:\n",
            "\n",
            "[[179  32]\n",
            " [ 22 197]]\n",
            "Accuracy: 0.8744186046511628\n",
            "Sensitivity: 0.8995433789954338\n",
            "Specificity: 0.8483412322274881\n",
            "=============================================\n",
            "Overall Accuracy: 89.44186046511628%\n",
            "CPU times: user 28.2 s, sys: 888 ms, total: 29.1 s\n",
            "Wall time: 27.8 s\n"
          ],
          "name": "stdout"
        }
      ]
    },
    {
      "cell_type": "markdown",
      "metadata": {
        "id": "Z7jTa68BAvm7"
      },
      "source": [
        "<h3>K fold validation for tanh activation"
      ]
    },
    {
      "cell_type": "code",
      "metadata": {
        "colab": {
          "base_uri": "https://localhost:8080/"
        },
        "id": "nHhZD2G55z-b",
        "outputId": "ba11ac8d-a5e0-4c40-f1a4-3feb90819267"
      },
      "source": [
        "%%time\n",
        "\n",
        "y_pred_full = []\n",
        "print(\"Tanh accuracies:\\n\")\n",
        "acc = 0\n",
        "for k in range(5):\n",
        "    \n",
        "    X_train = X_tot[0 : 1718]\n",
        "    y_train = y[0 : 1718]\n",
        "    X_val = X_tot[1718 :]\n",
        "    y_val = y[1718 :]\n",
        "    \n",
        "    a = np.random.rand(X_train.shape[1],hidden_neurons) \n",
        "    b = np.random.rand(hidden_neurons)\n",
        "    \n",
        "    # Training \n",
        "    H = tanh(X_train)\n",
        "    H_inv = np.linalg.pinv(H)\n",
        "    W2 = np.matmul(H_inv, y_train)\n",
        "    \n",
        "    # Testing\n",
        "    H_T = tanh(X_val)\n",
        "    y_pred = np.matmul(H_T, W2)\n",
        "    \n",
        "    print(f'Fold {k+1}:\\n')\n",
        "    a = [np.argmax(y_pred[i]) for i in range(len(y_pred))]\n",
        "    b= [np.argmax(y_val[i]) for i in range(len(y_val))]\n",
        "    confmat = cm(b,a)\n",
        "    print(\"Confusion Matrix:\\n\")\n",
        "    print(confmat)\n",
        "    Accuracy = (confmat[0][0]+confmat[1][1])/len(y_val)\n",
        "    acc += Accuracy\n",
        "    Sensitivity = (confmat[1][1])/(confmat[1][0] + confmat[1][1])\n",
        "    Specificity = (confmat[0][0])/(confmat[0][0] + confmat[0][1])\n",
        "    print(f\"Accuracy: {Accuracy}\\nSensitivity: {Sensitivity}\\nSpecificity: {Specificity}\")\n",
        "    print(\"=============================================\")\n",
        "    \n",
        "\n",
        "    X_tot[0 : 430] = X_val\n",
        "    X_tot[430 : ] = X_train\n",
        "    y[0 : 430] = y_val\n",
        "    y[430 : ] = y_train\n",
        "print(f\"Overall Accuracy: {acc*100/5}%\")"
      ],
      "execution_count": null,
      "outputs": [
        {
          "output_type": "stream",
          "text": [
            "Tanh accuracies:\n",
            "\n",
            "Fold 1:\n",
            "\n",
            "Confusion Matrix:\n",
            "\n",
            "[[185  33]\n",
            " [ 39 173]]\n",
            "Accuracy: 0.9325581395348836\n",
            "Sensitivity: 0.8160377358490566\n",
            "Specificity: 0.8486238532110092\n",
            "=============================================\n",
            "Fold 2:\n",
            "\n",
            "Confusion Matrix:\n",
            "\n",
            "[[186  38]\n",
            " [ 32 174]]\n",
            "Accuracy: 0.9372093023255814\n",
            "Sensitivity: 0.8446601941747572\n",
            "Specificity: 0.8303571428571429\n",
            "=============================================\n",
            "Fold 3:\n",
            "\n",
            "Confusion Matrix:\n",
            "\n",
            "[[182  31]\n",
            " [ 20 197]]\n",
            "Accuracy: 0.9813953488372092\n",
            "Sensitivity: 0.9078341013824884\n",
            "Specificity: 0.8544600938967136\n",
            "=============================================\n",
            "Fold 4:\n",
            "\n",
            "Confusion Matrix:\n",
            "\n",
            "[[168  44]\n",
            " [ 38 180]]\n",
            "Accuracy: 0.9093023255813953\n",
            "Sensitivity: 0.8256880733944955\n",
            "Specificity: 0.7924528301886793\n",
            "=============================================\n",
            "Fold 5:\n",
            "\n",
            "Confusion Matrix:\n",
            "\n",
            "[[185  33]\n",
            " [ 39 173]]\n",
            "Accuracy: 0.9325581395348836\n",
            "Sensitivity: 0.8160377358490566\n",
            "Specificity: 0.8486238532110092\n",
            "=============================================\n",
            "Overall Accuracy: 93.86046511627907%\n",
            "CPU times: user 134 ms, sys: 78.5 ms, total: 213 ms\n",
            "Wall time: 111 ms\n"
          ],
          "name": "stdout"
        }
      ]
    },
    {
      "cell_type": "code",
      "metadata": {
        "id": "_sgHsUf0qvbz"
      },
      "source": [
        ""
      ],
      "execution_count": null,
      "outputs": []
    }
  ]
}