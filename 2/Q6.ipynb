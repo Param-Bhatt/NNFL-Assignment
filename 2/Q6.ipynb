{
  "nbformat": 4,
  "nbformat_minor": 0,
  "metadata": {
    "colab": {
      "name": "Q6.ipynb",
      "provenance": [],
      "collapsed_sections": [],
      "include_colab_link": true
    },
    "kernelspec": {
      "name": "python3",
      "display_name": "Python 3"
    },
    "accelerator": "GPU"
  },
  "cells": [
    {
      "cell_type": "markdown",
      "metadata": {
        "id": "view-in-github",
        "colab_type": "text"
      },
      "source": [
        "<a href=\"https://colab.research.google.com/github/Param-Bhatt/NNFL-Assignment/blob/master/2/Q6.ipynb\" target=\"_parent\"><img src=\"https://colab.research.google.com/assets/colab-badge.svg\" alt=\"Open In Colab\"/></a>"
      ]
    },
    {
      "cell_type": "markdown",
      "metadata": {
        "id": "pKKaAi6I_XtZ"
      },
      "source": [
        "<h3>Mounting drive"
      ]
    },
    {
      "cell_type": "code",
      "metadata": {
        "colab": {
          "base_uri": "https://localhost:8080/"
        },
        "id": "N4QQDcyz_Ve2",
        "outputId": "9d1d4f69-566e-440c-c7c0-54321c6ef5b5"
      },
      "source": [
        "from google.colab import drive\n",
        "drive.mount('/content/drive')"
      ],
      "execution_count": 14,
      "outputs": [
        {
          "output_type": "stream",
          "text": [
            "Drive already mounted at /content/drive; to attempt to forcibly remount, call drive.mount(\"/content/drive\", force_remount=True).\n"
          ],
          "name": "stdout"
        }
      ]
    },
    {
      "cell_type": "markdown",
      "metadata": {
        "id": "biORepyY_aqE"
      },
      "source": [
        "<h3>Navigating to respective directory"
      ]
    },
    {
      "cell_type": "code",
      "metadata": {
        "colab": {
          "base_uri": "https://localhost:8080/"
        },
        "id": "TTaOj4TnsKO2",
        "outputId": "6b83edae-ac43-433b-c2bc-47eee9f17263"
      },
      "source": [
        "%cd \"/content/drive/My Drive/NNFL-Assignments/2\"\n",
        "!ls"
      ],
      "execution_count": 15,
      "outputs": [
        {
          "output_type": "stream",
          "text": [
            "/content/drive/My Drive/NNFL-Assignments/2\n",
            "assignment2.gdoc  class2_images    class_label.mat  data5.mat\t  input.mat\n",
            "assignment2.pdf   class3_images    data55.xlsx\t    input_a2.mat  label.mat\n",
            "class1_images\t  class_label.csv  data5.csv\t    input.gsheet  Q8.ipynb\n"
          ],
          "name": "stdout"
        }
      ]
    },
    {
      "cell_type": "markdown",
      "metadata": {
        "id": "PUknuF6__6MY"
      },
      "source": [
        "<h3>Importing all libraries required"
      ]
    },
    {
      "cell_type": "code",
      "metadata": {
        "id": "ITLzPFcDsHQp"
      },
      "source": [
        "import numpy as np \n",
        "from scipy.io import loadmat\n",
        "from sklearn.preprocessing import normalize\n",
        "import random\n",
        "from sklearn.metrics import confusion_matrix as cm"
      ],
      "execution_count": 16,
      "outputs": []
    },
    {
      "cell_type": "markdown",
      "metadata": {
        "id": "xB94SrZ2_9Kn"
      },
      "source": [
        "<h3>Activation functions"
      ]
    },
    {
      "cell_type": "code",
      "metadata": {
        "id": "UDRvJ4f9sPN1"
      },
      "source": [
        "#Gaussian activation function\n",
        "def gaussian(X, a, b):   \n",
        "    K = np.zeros((X.shape[0], hidden_neurons))\n",
        "    for i in range(K.shape[0]):\n",
        "        for j in range(K.shape[1]):\n",
        "            K[i,j] = np.exp(-b[j] * np.linalg.norm(a[:,j] - X[i,:]))  \n",
        "    return K\n",
        "\n",
        "#Tanh activation function\n",
        "def tanh(X):\n",
        "    return np.tanh(X)\n",
        "\n"
      ],
      "execution_count": 17,
      "outputs": []
    },
    {
      "cell_type": "markdown",
      "metadata": {
        "id": "ak7gKPCFAGG7"
      },
      "source": [
        "<h3>Initialise data"
      ]
    },
    {
      "cell_type": "code",
      "metadata": {
        "id": "QmXO2vwYtV5Z"
      },
      "source": [
        "def init_data(data):\n",
        "    X = np.array(data[ : , :-1], dtype = float)\n",
        "    y = np.array(data[ : , -1], dtype = int)\n",
        "    X = normalize(X, axis = 0)\n",
        "    return X, y\n",
        "\n",
        "f = loadmat('data5.mat')\n",
        "D = f['x']\n",
        "np.random.shuffle(D)\n",
        "\n",
        "X_tot, y_tot = init_data(D)\n",
        "X_tot = np.insert(X_tot, 0, 1, axis=1)\n",
        "\n",
        "\n",
        "labels = D[:, -1]\n",
        "y = np.zeros([len(X_tot), 2])\n",
        "\n",
        "for i in range(len(labels)):\n",
        "    if labels[i] == 1:\n",
        "        y[i,1] = 1.0\n",
        "    elif labels[i] == 0:\n",
        "        y[i,0] = 1.0\n",
        "\n",
        "hidden_neurons = 300\n",
        "output_neurons = 2"
      ],
      "execution_count": 18,
      "outputs": []
    },
    {
      "cell_type": "markdown",
      "metadata": {
        "id": "Qv1eUT1OApTL"
      },
      "source": [
        "<h3>K fold validation for gaussian activation"
      ]
    },
    {
      "cell_type": "code",
      "metadata": {
        "colab": {
          "base_uri": "https://localhost:8080/"
        },
        "id": "GrmTeHWY7Xr1",
        "outputId": "dc0b6ba0-577a-4b96-8073-9c242a7652b3"
      },
      "source": [
        "%%time\n",
        "\n",
        "print(\"Gaussian accuracies: \")\n",
        "acc = 0\n",
        "for k in range(5):\n",
        "\n",
        "    X_train = X_tot[0 : 1718]\n",
        "    y_train = y[0 : 1718]\n",
        "    X_val = X_tot[1718 :]\n",
        "    y_val = y[1718 :]\n",
        "    \n",
        "    a = np.random.rand(X_train.shape[1], hidden_neurons) \n",
        "    b = np.random.rand(hidden_neurons)\n",
        "    \n",
        "    # Training \n",
        "    H = gaussian(X_train, a, b)\n",
        "    H_inv = np.linalg.pinv(H)\n",
        "    W2 = np.matmul(H_inv, y_train)\n",
        "    \n",
        "    # Testing\n",
        "    H_T = gaussian(X_val, a, b)\n",
        "    y_pred = np.matmul(H_T, W2)\n",
        "    \n",
        "    print(f'Fold {k+1}:\\n')\n",
        "    a = [np.argmax(y_pred[i]) for i in range(len(y_pred))]\n",
        "    b= [np.argmax(y_val[i]) for i in range(len(y_val))]\n",
        "    confmat = cm(b,a)\n",
        "    print(\"Confusion Matrix:\\n\")\n",
        "    print(confmat)\n",
        "    Accuracy = (confmat[0][0]+confmat[1][1])/len(y_val)\n",
        "    acc += Accuracy\n",
        "    Sensitivity = (confmat[1][1])/(confmat[1][0] + confmat[1][1])\n",
        "    Specificity = (confmat[0][0])/(confmat[0][0] + confmat[0][1])\n",
        "    print(f\"Accuracy: {Accuracy}\\nSensitivity: {Sensitivity}\\nSpecificity: {Specificity}\")\n",
        "    print(\"=============================================\")\n",
        "\n",
        "    X_tot[0 : 430] = X_val\n",
        "    X_tot[430 : ] = X_train\n",
        "    y[0 : 430] = y_val\n",
        "    y[430 : ] = y_train\n",
        "\n",
        "print(f\"Overall Accuracy: {acc*100/5}%\")"
      ],
      "execution_count": 26,
      "outputs": [
        {
          "output_type": "stream",
          "text": [
            "Gaussian accuracies: \n",
            "Fold 1:\n",
            "\n",
            "Confusion Matrix:\n",
            "\n",
            "[[198  21]\n",
            " [ 13 198]]\n",
            "Accuracy: 0.9659302325581396\n",
            "Sensitivity: 0.9383886255924171\n",
            "Specificity: 0.9041095890410958\n",
            "=============================================\n",
            "Fold 2:\n",
            "\n",
            "Confusion Matrix:\n",
            "\n",
            "[[192  26]\n",
            " [ 22 190]]\n",
            "Accuracy: 0.9333720930232559\n",
            "Sensitivity: 0.8962264150943396\n",
            "Specificity: 0.8807339449541285\n",
            "=============================================\n",
            "Fold 3:\n",
            "\n",
            "Confusion Matrix:\n",
            "\n",
            "[[191  29]\n",
            " [ 24 186]]\n",
            "Accuracy: 0.9217441860465116\n",
            "Sensitivity: 0.8857142857142857\n",
            "Specificity: 0.8681818181818182\n",
            "=============================================\n",
            "Fold 4:\n",
            "\n",
            "Confusion Matrix:\n",
            "\n",
            "[[188  27]\n",
            " [ 35 180]]\n",
            "Accuracy: 0.9008139534883721\n",
            "Sensitivity: 0.8372093023255814\n",
            "Specificity: 0.8744186046511628\n",
            "=============================================\n",
            "Fold 5:\n",
            "\n",
            "Confusion Matrix:\n",
            "\n",
            "[[189  31]\n",
            " [ 16 194]]\n",
            "Accuracy: 0.9356976744186047\n",
            "Sensitivity: 0.9238095238095239\n",
            "Specificity: 0.8590909090909091\n",
            "=============================================\n",
            "Overall Accuracy: 93.15116279069767%\n",
            "CPU times: user 38.7 s, sys: 940 ms, total: 39.6 s\n",
            "Wall time: 38.2 s\n"
          ],
          "name": "stdout"
        }
      ]
    },
    {
      "cell_type": "markdown",
      "metadata": {
        "id": "Z7jTa68BAvm7"
      },
      "source": [
        "<h3>K fold validation for tanh activation"
      ]
    },
    {
      "cell_type": "code",
      "metadata": {
        "colab": {
          "base_uri": "https://localhost:8080/"
        },
        "id": "nHhZD2G55z-b",
        "outputId": "94e31877-0cc0-4b56-b827-8b1c2a1b733b"
      },
      "source": [
        "%%time\n",
        "\n",
        "y_pred_full = []\n",
        "print(\"Tanh accuracies:\\n\")\n",
        "acc = 0\n",
        "for k in range(5):\n",
        "    \n",
        "    X_train = X_tot[0 : 1718]\n",
        "    y_train = y[0 : 1718]\n",
        "    X_val = X_tot[1718 :]\n",
        "    y_val = y[1718 :]\n",
        "    \n",
        "    a = np.random.rand(X_train.shape[1],hidden_neurons) \n",
        "    b = np.random.rand(hidden_neurons)\n",
        "    \n",
        "    # Training \n",
        "    H = tanh(X_train)\n",
        "    H_inv = np.linalg.pinv(H)\n",
        "    W2 = np.matmul(H_inv, y_train)\n",
        "    \n",
        "    # Testing\n",
        "    H_T = tanh(X_val)\n",
        "    y_pred = np.matmul(H_T, W2)\n",
        "    \n",
        "    print(f'Fold {k+1}:\\n')\n",
        "    a = [np.argmax(y_pred[i]) for i in range(len(y_pred))]\n",
        "    b= [np.argmax(y_val[i]) for i in range(len(y_val))]\n",
        "    confmat = cm(b,a)\n",
        "    print(\"Confusion Matrix:\\n\")\n",
        "    print(confmat)\n",
        "    Accuracy = (confmat[0][0]+confmat[1][1])/len(y_val)\n",
        "    acc += Accuracy\n",
        "    Sensitivity = (confmat[1][1])/(confmat[1][0] + confmat[1][1])\n",
        "    Specificity = (confmat[0][0])/(confmat[0][0] + confmat[0][1])\n",
        "    print(f\"Accuracy: {Accuracy}\\nSensitivity: {Sensitivity}\\nSpecificity: {Specificity}\")\n",
        "    print(\"=============================================\")\n",
        "    \n",
        "\n",
        "    X_tot[0 : 430] = X_val\n",
        "    X_tot[430 : ] = X_train\n",
        "    y[0 : 430] = y_val\n",
        "    y[430 : ] = y_train\n",
        "print(f\"Overall Accuracy: {acc*100/5}%\")"
      ],
      "execution_count": 25,
      "outputs": [
        {
          "output_type": "stream",
          "text": [
            "Tanh accuracies:\n",
            "\n",
            "Fold 1:\n",
            "\n",
            "Confusion Matrix:\n",
            "\n",
            "[[182  34]\n",
            " [ 24 190]]\n",
            "Accuracy: 0.9541162790697674\n",
            "Sensitivity: 0.8878504672897196\n",
            "Specificity: 0.8425925925925926\n",
            "=============================================\n",
            "Fold 2:\n",
            "\n",
            "Confusion Matrix:\n",
            "\n",
            "[[186  33]\n",
            " [ 26 185]]\n",
            "Accuracy: 0.9517906976744186\n",
            "Sensitivity: 0.8767772511848341\n",
            "Specificity: 0.8493150684931506\n",
            "=============================================\n",
            "Fold 3:\n",
            "\n",
            "Confusion Matrix:\n",
            "\n",
            "[[179  38]\n",
            " [ 38 175]]\n",
            "Accuracy: 0.9122558139534883\n",
            "Sensitivity: 0.8215962441314554\n",
            "Specificity: 0.8248847926267281\n",
            "=============================================\n",
            "Fold 4:\n",
            "\n",
            "Confusion Matrix:\n",
            "\n",
            "[[179  41]\n",
            " [ 46 164]]\n",
            "Accuracy: 0.8866744186046511\n",
            "Sensitivity: 0.780952380952381\n",
            "Specificity: 0.8136363636363636\n",
            "=============================================\n",
            "Fold 5:\n",
            "\n",
            "Confusion Matrix:\n",
            "\n",
            "[[181  34]\n",
            " [ 26 189]]\n",
            "Accuracy: 0.9494651162790697\n",
            "Sensitivity: 0.8790697674418605\n",
            "Specificity: 0.8418604651162791\n",
            "=============================================\n",
            "Overall Accuracy: 93.0860465116279%\n",
            "CPU times: user 179 ms, sys: 78.4 ms, total: 257 ms\n",
            "Wall time: 132 ms\n"
          ],
          "name": "stdout"
        }
      ]
    },
    {
      "cell_type": "code",
      "metadata": {
        "id": "_sgHsUf0qvbz"
      },
      "source": [
        ""
      ],
      "execution_count": 20,
      "outputs": []
    }
  ]
}