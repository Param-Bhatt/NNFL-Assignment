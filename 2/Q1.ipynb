{
  "nbformat": 4,
  "nbformat_minor": 0,
  "metadata": {
    "colab": {
      "name": "Q1.ipynb",
      "provenance": [],
      "collapsed_sections": [],
      "include_colab_link": true
    },
    "kernelspec": {
      "name": "python3",
      "display_name": "Python 3"
    },
    "accelerator": "GPU"
  },
  "cells": [
    {
      "cell_type": "markdown",
      "metadata": {
        "id": "view-in-github",
        "colab_type": "text"
      },
      "source": [
        "<a href=\"https://colab.research.google.com/github/Param-Bhatt/NNFL-Assignment/blob/master/2/Q1.ipynb\" target=\"_parent\"><img src=\"https://colab.research.google.com/assets/colab-badge.svg\" alt=\"Open In Colab\"/></a>"
      ]
    },
    {
      "cell_type": "markdown",
      "metadata": {
        "id": "jH6hgGRExb8G"
      },
      "source": [
        "<h3>Mounting drive </h3>"
      ]
    },
    {
      "cell_type": "code",
      "metadata": {
        "colab": {
          "base_uri": "https://localhost:8080/"
        },
        "id": "EBoPGq1Dv8X9",
        "outputId": "debae016-0149-42d5-c732-da9a7efd57ad"
      },
      "source": [
        "from google.colab import drive\n",
        "drive.mount('/content/drive')"
      ],
      "execution_count": 1,
      "outputs": [
        {
          "output_type": "stream",
          "text": [
            "Mounted at /content/drive\n"
          ],
          "name": "stdout"
        }
      ]
    },
    {
      "cell_type": "markdown",
      "metadata": {
        "id": "Nem4gHW1xf5V"
      },
      "source": [
        "<h3> Navigating to respective directory"
      ]
    },
    {
      "cell_type": "code",
      "metadata": {
        "id": "_d8h4xSYRlXL",
        "colab": {
          "base_uri": "https://localhost:8080/"
        },
        "outputId": "96820a81-991e-4d9e-8c86-41a9a177c0e8"
      },
      "source": [
        "%cd \"/content/drive/My Drive/NNFL-Assignments/2\"\n",
        "!ls"
      ],
      "execution_count": 2,
      "outputs": [
        {
          "output_type": "stream",
          "text": [
            "/content/drive/My Drive/NNFL-Assignments/2\n",
            "assignment2.gdoc  class2_images    class_label.mat  data5.mat\t  input.mat\n",
            "assignment2.pdf   class3_images    data55.xlsx\t    input_a2.mat  label.mat\n",
            "class1_images\t  class_label.csv  data5.csv\t    input.gsheet  Q8.ipynb\n"
          ],
          "name": "stdout"
        }
      ]
    },
    {
      "cell_type": "markdown",
      "metadata": {
        "id": "wgtNeafE0eUI"
      },
      "source": [
        "<h3> Importing all libraries required"
      ]
    },
    {
      "cell_type": "code",
      "metadata": {
        "id": "NWj1bxEhT08n"
      },
      "source": [
        "import pandas as pd\n",
        "import numpy as np\n",
        "import matplotlib.pyplot as plt\n",
        "import os\n",
        "import random\n",
        "import time\n",
        "from tabulate import tabulate"
      ],
      "execution_count": 3,
      "outputs": []
    },
    {
      "cell_type": "markdown",
      "metadata": {
        "id": "9dzU8uu70j7q"
      },
      "source": [
        "<h3>Form datasets for use, and sanitize them as needed </h3>"
      ]
    },
    {
      "cell_type": "code",
      "metadata": {
        "id": "jEsOgUE6Vgkt"
      },
      "source": [
        "data=pd.read_excel('data55.xlsx',header=None)\n",
        "data[[0,1,2,3]]=(data[[0,1,2,3]]-data[[0,1,2,3]].mean(axis=0))/data[[0,1,2,3]].std(axis=0)\n",
        "train, valid, test=np.split(data.sample(frac=1, random_state=42),[int(.7*len(data)), int(.8*len(data))])\n",
        "\n",
        "train=np.array(train)\n",
        "valid=np.array(valid)\n",
        "test=np.array(test)\n",
        "\n",
        "train_X=train[:,:4]\n",
        "train_y=train[:,4]\n",
        "valid_X=valid[:,:4]\n",
        "valid_y=valid[:,4]\n",
        "test_X=test[:,:4]\n",
        "test_y=test[:,4]"
      ],
      "execution_count": 6,
      "outputs": []
    },
    {
      "cell_type": "markdown",
      "metadata": {
        "id": "Pikb4moO0mCW"
      },
      "source": [
        "<h3> Main functions"
      ]
    },
    {
      "cell_type": "code",
      "metadata": {
        "id": "z82SGFRKeOkN"
      },
      "source": [
        "def sigmoid_func(x):\n",
        "  return 1/(1+ np.exp(-x))\n",
        "\n",
        "def der_sigmoid_func(x):\n",
        "    return x * (1 - x)\n",
        "\n",
        "def perc(train_X,train_y,w,b,n_iters,lr):\n",
        "  \n",
        "  for i in range(n_iters):\n",
        "\n",
        "    #Forward Propogation\n",
        "    layer=np.dot(train_X,w)\n",
        "    input=layer + b\n",
        "    output = 1/(1+ np.exp(-input)) #sigmoid_func(input)\n",
        "\n",
        "    #Backward Propagation\n",
        "    error=output-train_y\n",
        "    der=output * (1 - output) #der_sigmoid_func(output)\n",
        "    update=error*der\n",
        "    update_w=np.dot(train_X.T,update)\n",
        "    w=w-lr*update_w\n",
        "    update_b=update\n",
        "    b=b-lr*update\n",
        "\n",
        "  return w,b\n",
        "\n",
        "def eval(X,w,b):\n",
        "  layer=np.dot(X,w)\n",
        "  input=layer + b[0]\n",
        "  output = 1/(1+ np.exp(-input)) #sigmoid_func(input)\n",
        "\n",
        "  return output\n"
      ],
      "execution_count": 7,
      "outputs": []
    },
    {
      "cell_type": "code",
      "metadata": {
        "id": "3Kqcqoknb7oJ",
        "colab": {
          "base_uri": "https://localhost:8080/"
        },
        "outputId": "3baefb01-b8be-4168-c55d-b912b3a07a5c"
      },
      "source": [
        "#Initializing the weights and bias\n",
        "w=np.random.randn(train_X.shape[1])  \n",
        "b=np.ones(train_X.shape[0])\n",
        "\n",
        "n_iters=500 # number of training iterations\n",
        "lr=0.020 # learning rate\n",
        "m=train_X.shape[0]\n",
        "n=train_X.shape[1] # number of features in data set\n",
        "\n",
        "print(w,b)"
      ],
      "execution_count": 8,
      "outputs": [
        {
          "output_type": "stream",
          "text": [
            "[-0.39920808  1.55327863 -2.22050913 -0.31345301] [1. 1. 1. 1. 1. 1. 1. 1. 1. 1. 1. 1. 1. 1. 1. 1. 1. 1. 1. 1. 1. 1. 1. 1.\n",
            " 1. 1. 1. 1. 1. 1. 1. 1. 1. 1. 1. 1. 1. 1. 1. 1. 1. 1. 1. 1. 1. 1. 1. 1.\n",
            " 1. 1. 1. 1. 1. 1. 1. 1. 1. 1. 1. 1. 1. 1. 1. 1. 1. 1. 1. 1. 1. 1.]\n"
          ],
          "name": "stdout"
        }
      ]
    },
    {
      "cell_type": "markdown",
      "metadata": {
        "id": "1xaaoUWoxycW"
      },
      "source": [
        "<h3> Training"
      ]
    },
    {
      "cell_type": "code",
      "metadata": {
        "id": "PS8LfdIjEO5g",
        "colab": {
          "base_uri": "https://localhost:8080/"
        },
        "outputId": "5359a595-6e36-44f5-f460-7d44b631dc81"
      },
      "source": [
        "w,b=perc(train_X,train_y,w,b,n_iters,lr)\n",
        "print(\"Weights: \",w)\n",
        "print(\"Bias: \",b[0])\n"
      ],
      "execution_count": 9,
      "outputs": [
        {
          "output_type": "stream",
          "text": [
            "Weights:  [ 1.40452386 -1.07386472  0.84465416  2.57289687]\n",
            "Bias:  1.021346875893384\n"
          ],
          "name": "stdout"
        }
      ]
    },
    {
      "cell_type": "markdown",
      "metadata": {
        "id": "eAHeylR5x16G"
      },
      "source": [
        "<h3> Validating"
      ]
    },
    {
      "cell_type": "code",
      "metadata": {
        "colab": {
          "base_uri": "https://localhost:8080/"
        },
        "id": "OwKcuEvNwH5c",
        "outputId": "a430fe8f-d198-4290-c1aa-7abe820e3754"
      },
      "source": [
        "valid_pred=eval(valid_X,w,b)\n",
        "valid_pred=np.where(valid_pred>0.5,1,0)\n",
        "print(\"Accuracy of validation set: \",np.abs(np.sum(valid_pred==valid_y))/len(valid_y))"
      ],
      "execution_count": 10,
      "outputs": [
        {
          "output_type": "stream",
          "text": [
            "Accuracy of validation set:  1.0\n"
          ],
          "name": "stdout"
        }
      ]
    },
    {
      "cell_type": "markdown",
      "metadata": {
        "id": "Xe-trOQ4x3xD"
      },
      "source": [
        "<h3> Testing"
      ]
    },
    {
      "cell_type": "code",
      "metadata": {
        "colab": {
          "base_uri": "https://localhost:8080/"
        },
        "id": "_SiCkhWtwlU5",
        "outputId": "5df67021-12f4-48bd-c2a4-ec721b027e47"
      },
      "source": [
        "test_pred=eval(test_X,w,b)\n",
        "test_pred=np.where(test_pred>0.5,1,0)\n",
        "acc_m=pd.crosstab(test_y,test_pred)\n",
        "print('Accuracy: ',(acc_m[0][0]+acc_m[1][1])/len(test_y))\n",
        "print('Sensitivity: ',acc_m[1][1]/(acc_m[1][1]+acc_m[0][1]))\n",
        "print('Specificity: ',acc_m[0][0]/(acc_m[0][0]+acc_m[1][0]))"
      ],
      "execution_count": 11,
      "outputs": [
        {
          "output_type": "stream",
          "text": [
            "Accuracy:  1.0\n",
            "Sensitivity:  1.0\n",
            "Specificity:  1.0\n"
          ],
          "name": "stdout"
        }
      ]
    }
  ]
}