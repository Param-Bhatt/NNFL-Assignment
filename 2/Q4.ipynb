{
  "nbformat": 4,
  "nbformat_minor": 0,
  "metadata": {
    "colab": {
      "name": "Q4.ipynb",
      "provenance": [],
      "collapsed_sections": [],
      "include_colab_link": true
    },
    "kernelspec": {
      "name": "python3",
      "display_name": "Python 3"
    },
    "accelerator": "GPU"
  },
  "cells": [
    {
      "cell_type": "markdown",
      "metadata": {
        "id": "view-in-github",
        "colab_type": "text"
      },
      "source": [
        "<a href=\"https://colab.research.google.com/github/Param-Bhatt/NNFL-Assignment/blob/master/2/Q4.ipynb\" target=\"_parent\"><img src=\"https://colab.research.google.com/assets/colab-badge.svg\" alt=\"Open In Colab\"/></a>"
      ]
    },
    {
      "cell_type": "markdown",
      "metadata": {
        "id": "oP438Xge669c"
      },
      "source": [
        "<h3> Ignore warnings"
      ]
    },
    {
      "cell_type": "code",
      "metadata": {
        "id": "dXr9C3Hdft7r"
      },
      "source": [
        "import warnings\n",
        "warnings.filterwarnings(\"ignore\")"
      ],
      "execution_count": 3,
      "outputs": []
    },
    {
      "cell_type": "markdown",
      "metadata": {
        "id": "vTBmUZ1O69ac"
      },
      "source": [
        "<h3>Mounting drive"
      ]
    },
    {
      "cell_type": "code",
      "metadata": {
        "colab": {
          "base_uri": "https://localhost:8080/"
        },
        "id": "ntfmf6P36y1b",
        "outputId": "d7517a28-f920-4cfb-aad8-cff117c12431"
      },
      "source": [
        "from google.colab import drive\n",
        "drive.mount('/content/drive')"
      ],
      "execution_count": 4,
      "outputs": [
        {
          "output_type": "stream",
          "text": [
            "Drive already mounted at /content/drive; to attempt to forcibly remount, call drive.mount(\"/content/drive\", force_remount=True).\n"
          ],
          "name": "stdout"
        }
      ]
    },
    {
      "cell_type": "markdown",
      "metadata": {
        "id": "Ipe8FLvC7PVu"
      },
      "source": [
        "<h3> Navigating to respective directory"
      ]
    },
    {
      "cell_type": "code",
      "metadata": {
        "colab": {
          "base_uri": "https://localhost:8080/"
        },
        "id": "Y8o9_WmxBmqC",
        "outputId": "f06214af-b0e3-490c-93fc-5cfa5d032fa5"
      },
      "source": [
        "%cd \"/content/drive/My Drive/NNFL-Assignments/2\"\n",
        "!ls"
      ],
      "execution_count": 5,
      "outputs": [
        {
          "output_type": "stream",
          "text": [
            "/content/drive/My Drive/NNFL-Assignments/2\n",
            "assignment2.gdoc  class2_images    class_label.mat  data5.mat\t  input.mat\n",
            "assignment2.pdf   class3_images    data55.xlsx\t    input_a2.mat  label.mat\n",
            "class1_images\t  class_label.csv  data5.csv\t    input.gsheet  Q8.ipynb\n"
          ],
          "name": "stdout"
        }
      ]
    },
    {
      "cell_type": "markdown",
      "metadata": {
        "id": "KijShOg97WV-"
      },
      "source": [
        "<h3>Importing all libraries required"
      ]
    },
    {
      "cell_type": "code",
      "metadata": {
        "id": "8Ze7JX7SBrBx"
      },
      "source": [
        "import numpy as np\n",
        "from scipy.io import loadmat\n",
        "import random\n",
        "from sklearn.metrics import confusion_matrix as cm"
      ],
      "execution_count": 6,
      "outputs": []
    },
    {
      "cell_type": "markdown",
      "metadata": {
        "id": "i_nzixpd7ZSj"
      },
      "source": [
        "<h3>Loading the data"
      ]
    },
    {
      "cell_type": "code",
      "metadata": {
        "id": "V9jnqDdDECAZ"
      },
      "source": [
        "f = loadmat('data5.mat')\n",
        "D = f['x']\n",
        "np.random.shuffle(D)\n",
        "\n",
        "def init_data(data):\n",
        "    X = np.array(data[:2148, :-1], dtype = float)\n",
        "    y = np.array(data[:2148, -1], dtype = int)\n",
        "    X = (X - X.mean(axis = 0))/X.std(axis = 0)\n",
        "    return X, y\n",
        "\n",
        "X_tot, y_tot = init_data(D)\n",
        "\n",
        "train_X = X_tot[ : 1600]\n",
        "train_y = y_tot[ : 1600]\n",
        "test_X = X_tot[1600 : 2148]\n",
        "test_y = y_tot[1600 : 2148]\n"
      ],
      "execution_count": 7,
      "outputs": []
    },
    {
      "cell_type": "markdown",
      "metadata": {
        "id": "dwAIARXr7a4c"
      },
      "source": [
        "<h3>Kernel functions"
      ]
    },
    {
      "cell_type": "code",
      "metadata": {
        "id": "CrdaRvMoGq9B"
      },
      "source": [
        "def gaussian(x,center,sigma,beta):\n",
        "    #Gaussian Kernel\n",
        "    return np.exp(-beta * (np.linalg.norm(x - center)) ** 2)\n",
        "\n",
        "def multi_quadric(x, center, sigma, beta):\n",
        "    #Multi Quadratic Kernel\n",
        "    return ((np.linalg.norm(x - center)) ** 2 + sigma ** 2) ** 0.5\n",
        "\n",
        "def linear(x, center, sigma, beta):\n",
        "    #Linear Kernel\n",
        "    return np.linalg.norm(x - center)\n",
        "\n",
        "def fit_rbf(train_X, train_y, test_X, test_y):\n",
        "    centers, labels = kmeans(train_X,K=550)\n",
        "\n",
        "    sigma = np.zeros((len(centers), 1))\n",
        "    beta = np.zeros((len(centers), 1))\n",
        "    cluster_size = np.zeros((len(centers), 1))\n",
        "\n",
        "    for i in range(len(train_X)):\n",
        "        sigma[labels[i]] += np.linalg.norm(train_X[i] - centers[labels[i]])\n",
        "        cluster_size[labels[i]] += 1\n",
        "\n",
        "    sigma /= cluster_size\n",
        "    beta = 1 / 2 * (sigma * sigma + 1e-6)\n",
        "\n",
        "    H = np.zeros((len(train_X), len(centers)))\n",
        "\n",
        "    for i in range(len(train_X)):\n",
        "        for j in range(len(centers)):\n",
        "            H[i, j] = linear(train_X[i], centers[j], sigma[j], beta[j])\n",
        "\n",
        "    W = np.dot(np.linalg.pinv(H), train_y)\n",
        "\n",
        "    #Test run\n",
        "    H_test = np.zeros([len(test_X), len(centers)])\n",
        "    for i in range(len(test_X)):\n",
        "        for j in range(len(centers)):\n",
        "            H_test[i, j] = linear(test_X[i], centers[j], sigma[j], beta[j])\n",
        "\n",
        "    y_pred = np.dot(H_test, W)\n",
        "    for i in range(len(y_pred)):\n",
        "        y_pred[i] = 1 if y_pred[i]>=0.5 else 0\n",
        "        \n",
        "    accuracy = 0    \n",
        "    for i in range(len(y_pred)):\n",
        "        if y_pred[i] == test_y[i]:\n",
        "            accuracy +=1\n",
        "    accuracy /= len(y_pred)\n",
        "    print(accuracy)\n",
        "    return y_pred, accuracy"
      ],
      "execution_count": 8,
      "outputs": []
    },
    {
      "cell_type": "markdown",
      "metadata": {
        "id": "8UDnDV9T7mPE"
      },
      "source": [
        "<h3>KMeans "
      ]
    },
    {
      "cell_type": "code",
      "metadata": {
        "id": "7xCuTb5o5awJ"
      },
      "source": [
        "def kmeans(X,K=3,max_iter=5000):\n",
        "    '''\n",
        "    K= number of clusters\n",
        "    '''\n",
        "    m,n = np.shape(X)\n",
        "    def create_dict(n):\n",
        "        a = {}\n",
        "        for i in range(n):\n",
        "            a[f'{i}'] = []\n",
        "        return a \n",
        "    def calc_distance(A,B):\n",
        "       return np.linalg.norm(A-B,2)\n",
        "    \n",
        "    def return_cluster(C_ind,ind):\n",
        "        '''\n",
        "        Returns the cluster that the index belongs to\n",
        "        '''\n",
        "        for i in C_ind.keys():\n",
        "            if ind in C_ind[i]:\n",
        "                return int(i)\n",
        "\n",
        "\n",
        "    #random centers\n",
        "    index_random = np.random.randint(0,m,K)\n",
        "    C = []\n",
        "    #Initializing random cluster centers\n",
        "    for i in range(K):\n",
        "        C.append(X[index_random[i]])\n",
        "    #New Centers\n",
        "    NC = np.zeros((K,n))\n",
        "\n",
        "    #converged state bool\n",
        "    st = False\n",
        "    iter = 0\n",
        "    while True:\n",
        "        if iter == max_iter or st:\n",
        "            break\n",
        "            \n",
        "        C_ind = create_dict(K)\n",
        "        for i in range(m):\n",
        "            d = []\n",
        "            for j in range(K):\n",
        "                d.append(calc_distance(X[i],C[j]))\n",
        "            index = np.argmin(d)\n",
        "            C_ind[f'{index}'].append(i) \n",
        "\n",
        "        for i in range(K):\n",
        "            c1_ind = C_ind[f'{i}']\n",
        "            if len(c1_ind):\n",
        "                for j in range(len(c1_ind)):\n",
        "                    NC[i] += X[c1_ind[j]]\n",
        "                NC[i] /= len(c1_ind)\n",
        "\n",
        "        if (C==NC).all():\n",
        "            st = True\n",
        "        \n",
        "        C = NC\n",
        "        iter += 1\n",
        "    \n",
        "    # return np.array(C),(C_ind)\n",
        "    labels = []\n",
        "    for i in range(m):\n",
        "        labels.append(return_cluster(C_ind,i))\n",
        "    return C,labels"
      ],
      "execution_count": 9,
      "outputs": []
    },
    {
      "cell_type": "markdown",
      "metadata": {
        "id": "Bs8eg-mZ7rEW"
      },
      "source": [
        "<h3>Accuracy and K-fold cross validation"
      ]
    },
    {
      "cell_type": "code",
      "metadata": {
        "colab": {
          "base_uri": "https://localhost:8080/"
        },
        "id": "_u6-FsdUBU3X",
        "outputId": "7d7790ac-7e38-4c87-c75b-a191598a19b5"
      },
      "source": [
        "%%time\n",
        "\n",
        "y_pred, _ = fit_rbf(train_X, train_y, test_X, test_y)\n",
        "for i in range(len(y_pred)):\n",
        "    y_pred[i] = 1 if y_pred[i] > 0.5 else 0\n",
        "\n",
        "confmat = cm(test_y, y_pred)\n",
        "\n",
        "Accuracy = (confmat[0][0]+confmat[1][1])/len(y_pred)\n",
        "Sensitivity = (confmat[1][1])/(confmat[1][0] + confmat[1][1])\n",
        "Specificity = (confmat[0][0])/(confmat[0][0] + confmat[0][1])\n",
        "print(\"Confusion Matrix:\")\n",
        "print(confmat)\n",
        "print(\"\\n\")\n",
        "print(f\"Accuracy: {Accuracy}\\nSensitivity: {Sensitivity}\\nSpecificity: {Specificity}\\n\")\n",
        "\n",
        "avg_acc = 0\n",
        "# K - fold cross validation\n",
        "\n",
        "\n",
        "\n",
        "for k in range(5):\n",
        "    X = X_tot[0 : 1718]\n",
        "    y = y_tot[0 : 1718]\n",
        "    X_val = X_tot[1718 :]\n",
        "    y_val = y_tot[1718 :]\n",
        "    print(f'Fold {k+1}:')\n",
        "    print(\"Accuracy: \", end=\"\")\n",
        "    _, acc = fit_rbf(X, y, X_val, y_val)\n",
        "    print(\"===================\")\n",
        "    avg_acc += acc\n",
        "    X_tot[0 : 430] = X_val\n",
        "    X_tot[430 : ] = X\n",
        "    y_tot[0 : 430] = y_val\n",
        "    y_tot[430 : ] = y\n",
        "\n",
        "avg_acc /= 5\n",
        "print(f'\\nAverage Accuracy: {avg_acc*100}%')"
      ],
      "execution_count": 11,
      "outputs": [
        {
          "output_type": "stream",
          "text": [
            "0.9635036496350365\n",
            "Confusion Matrix:\n",
            "[[251  13]\n",
            " [  7 277]]\n",
            "\n",
            "\n",
            "Accuracy: 0.9635036496350365\n",
            "Sensitivity: 0.9753521126760564\n",
            "Specificity: 0.9507575757575758\n",
            "\n",
            "Fold 1:\n",
            "Accuracy: 0.9558139534883721\n",
            "===================\n",
            "Fold 2:\n",
            "Accuracy: 0.9418604651162791\n",
            "===================\n",
            "Fold 3:\n",
            "Accuracy: 0.9534883720930233\n",
            "===================\n",
            "Fold 4:\n",
            "Accuracy: 0.9697674418604652\n",
            "===================\n",
            "Fold 5:\n",
            "Accuracy: 0.958139534883721\n",
            "===================\n",
            "\n",
            "Average Accuracy: 95.58139534883722%\n",
            "CPU times: user 2min 3s, sys: 2.06 s, total: 2min 5s\n",
            "Wall time: 2min 1s\n"
          ],
          "name": "stdout"
        }
      ]
    }
  ]
}